{
 "cells": [
  {
   "cell_type": "markdown",
   "metadata": {},
   "source": [
    "# Polypy\n",
    "\n",
    "### Tutorial 1 - Reading data\n",
    "\n",
    "The first thing to do with polypy is to read the data, whether it be in the DL_POLY HISTORY/CONFIG format, or in the DL_MONTE ARCHIVE format. Polypy will read these formats and return a dictionary\n",
    "\n",
    " ```\n",
    "data = {'label': Unique atom names, \n",
    "        'trajectories': Atomic trajectories, \n",
    "        'lv':Lattice vectors, \n",
    "        'timesteps':Total number of timesteps, \n",
    "        'natoms': Total number of atoms}\n",
    "```"
   ]
  },
  {
   "cell_type": "code",
   "execution_count": 1,
   "metadata": {},
   "outputs": [],
   "source": [
    "from polypy import read as rd\n",
    "import numpy as np"
   ]
  },
  {
   "cell_type": "code",
   "execution_count": 2,
   "metadata": {},
   "outputs": [],
   "source": [
    "history = rd.read_history(\"example_data/HISTORY\", [\"CA\", \"F\"])"
   ]
  },
  {
   "cell_type": "code",
   "execution_count": 4,
   "metadata": {},
   "outputs": [
    {
     "name": "stdout",
     "output_type": "stream",
     "text": [
      "['CA' 'CA' 'CA' ... 'F' 'F' 'F']\n"
     ]
    }
   ],
   "source": [
    "print(history['label'])"
   ]
  },
  {
   "cell_type": "markdown",
   "metadata": {},
   "source": [
    "polypy returns an (timesteps * number of atoms) x 3 array containing the atomic coordinates of all selected atoms at all timesteps. "
   ]
  },
  {
   "cell_type": "code",
   "execution_count": 5,
   "metadata": {},
   "outputs": [
    {
     "name": "stdout",
     "output_type": "stream",
     "text": [
      "[[-13.193  -13.207  -13.211 ]\n",
      " [-13.207  -10.472  -10.476 ]\n",
      " [-10.472  -13.207  -10.466 ]\n",
      " ...\n",
      " [-13.885   12.04   -13.591 ]\n",
      " [ 12.996   10.124    7.5745]\n",
      " [ 11.166   13.706    9.6046]]\n"
     ]
    }
   ],
   "source": [
    "print(history['trajectories'])"
   ]
  },
  {
   "cell_type": "code",
   "execution_count": 6,
   "metadata": {},
   "outputs": [
    {
     "name": "stdout",
     "output_type": "stream",
     "text": [
      "[[27.32 27.32 27.32]\n",
      " [27.36 27.36 27.36]\n",
      " [27.4  27.4  27.4 ]\n",
      " [27.44 27.44 27.44]\n",
      " [27.48 27.48 27.48]\n",
      " [27.51 27.51 27.51]\n",
      " [27.54 27.54 27.54]\n",
      " [27.58 27.58 27.58]\n",
      " [27.6  27.6  27.6 ]\n",
      " [27.63 27.63 27.63]\n",
      " [27.66 27.66 27.66]\n",
      " [27.68 27.68 27.68]\n",
      " [27.71 27.71 27.71]\n",
      " [27.73 27.73 27.73]\n",
      " [27.76 27.76 27.76]\n",
      " [27.78 27.78 27.78]\n",
      " [27.8  27.8  27.8 ]\n",
      " [27.82 27.82 27.82]\n",
      " [27.84 27.84 27.84]\n",
      " [27.86 27.86 27.86]\n",
      " [27.87 27.87 27.87]\n",
      " [27.89 27.89 27.89]\n",
      " [27.91 27.91 27.91]\n",
      " [27.92 27.92 27.92]\n",
      " [27.94 27.94 27.94]\n",
      " [27.95 27.95 27.95]\n",
      " [27.97 27.97 27.97]\n",
      " [27.98 27.98 27.98]\n",
      " [27.99 27.99 27.99]\n",
      " [28.01 28.01 28.01]\n",
      " [28.02 28.02 28.02]\n",
      " [28.03 28.03 28.03]\n",
      " [28.04 28.04 28.04]\n",
      " [28.05 28.05 28.05]\n",
      " [28.06 28.06 28.06]\n",
      " [28.07 28.07 28.07]\n",
      " [28.08 28.08 28.08]\n",
      " [28.09 28.09 28.09]\n",
      " [28.1  28.1  28.1 ]\n",
      " [28.11 28.11 28.11]\n",
      " [28.12 28.12 28.12]\n",
      " [28.12 28.12 28.12]\n",
      " [28.13 28.13 28.13]\n",
      " [28.14 28.14 28.14]\n",
      " [28.15 28.15 28.15]\n",
      " [28.15 28.15 28.15]\n",
      " [28.16 28.16 28.16]\n",
      " [28.17 28.17 28.17]\n",
      " [28.17 28.17 28.17]\n",
      " [28.18 28.18 28.18]\n",
      " [28.19 28.19 28.19]\n",
      " [28.19 28.19 28.19]\n",
      " [28.2  28.2  28.2 ]\n",
      " [28.2  28.2  28.2 ]\n",
      " [28.21 28.21 28.21]\n",
      " [28.21 28.21 28.21]\n",
      " [28.21 28.21 28.21]\n",
      " [28.22 28.22 28.22]\n",
      " [28.22 28.22 28.22]\n",
      " [28.23 28.23 28.23]\n",
      " [28.23 28.23 28.23]\n",
      " [28.23 28.23 28.23]\n",
      " [28.24 28.24 28.24]\n",
      " [28.24 28.24 28.24]\n",
      " [28.25 28.25 28.25]\n",
      " [28.25 28.25 28.25]\n",
      " [28.25 28.25 28.25]\n",
      " [28.26 28.26 28.26]\n",
      " [28.26 28.26 28.26]\n",
      " [28.27 28.27 28.27]\n",
      " [28.27 28.27 28.27]\n",
      " [28.27 28.27 28.27]\n",
      " [28.27 28.27 28.27]\n",
      " [28.28 28.28 28.28]\n",
      " [28.28 28.28 28.28]\n",
      " [28.28 28.28 28.28]\n",
      " [28.29 28.29 28.29]\n",
      " [28.29 28.29 28.29]\n",
      " [28.29 28.29 28.29]\n",
      " [28.3  28.3  28.3 ]\n",
      " [28.3  28.3  28.3 ]\n",
      " [28.3  28.3  28.3 ]\n",
      " [28.31 28.31 28.31]\n",
      " [28.31 28.31 28.31]\n",
      " [28.31 28.31 28.31]\n",
      " [28.31 28.31 28.31]\n",
      " [28.32 28.32 28.32]\n",
      " [28.32 28.32 28.32]\n",
      " [28.32 28.32 28.32]\n",
      " [28.32 28.32 28.32]\n",
      " [28.32 28.32 28.32]\n",
      " [28.32 28.32 28.32]\n",
      " [28.32 28.32 28.32]\n",
      " [28.32 28.32 28.32]\n",
      " [28.32 28.32 28.32]\n",
      " [28.33 28.33 28.33]\n",
      " [28.33 28.33 28.33]\n",
      " [28.33 28.33 28.33]\n",
      " [28.33 28.33 28.33]\n",
      " [28.33 28.33 28.33]]\n"
     ]
    }
   ],
   "source": [
    "print(history['lv'])"
   ]
  },
  {
   "cell_type": "code",
   "execution_count": 8,
   "metadata": {},
   "outputs": [
    {
     "name": "stdout",
     "output_type": "stream",
     "text": [
      "100\n"
     ]
    }
   ],
   "source": [
    "print(history['timesteps'])"
   ]
  },
  {
   "cell_type": "code",
   "execution_count": 9,
   "metadata": {},
   "outputs": [
    {
     "name": "stdout",
     "output_type": "stream",
     "text": [
      "1500\n"
     ]
    }
   ],
   "source": [
    "print(history['natoms'])"
   ]
  },
  {
   "cell_type": "code",
   "execution_count": null,
   "metadata": {},
   "outputs": [],
   "source": []
  },
  {
   "cell_type": "code",
   "execution_count": 3,
   "metadata": {
    "collapsed": true
   },
   "outputs": [],
   "source": [
    "ca_data = rd.get_atom(data, \"U\")"
   ]
  },
  {
   "cell_type": "code",
   "execution_count": 4,
   "metadata": {
    "collapsed": true
   },
   "outputs": [],
   "source": [
    "f_data = rd.get_atom(data, \"O\")"
   ]
  },
  {
   "cell_type": "code",
   "execution_count": 5,
   "metadata": {},
   "outputs": [
    {
     "name": "stdout",
     "output_type": "stream",
     "text": [
      "No Atoms of specified type exist within the selected HISTORY file\n"
     ]
    },
    {
     "ename": "SystemExit",
     "evalue": "0",
     "output_type": "error",
     "traceback": [
      "An exception has occurred, use %tb to see the full traceback.\n",
      "\u001b[0;31mSystemExit\u001b[0m\u001b[0;31m:\u001b[0m 0\n"
     ]
    },
    {
     "name": "stderr",
     "output_type": "stream",
     "text": [
      "/home/adam/anaconda3/lib/python3.6/site-packages/IPython/core/interactiveshell.py:2889: UserWarning: To exit: use 'exit', 'quit', or Ctrl-D.\n",
      "  warn(\"To exit: use 'exit', 'quit', or Ctrl-D.\", stacklevel=1)\n"
     ]
    }
   ],
   "source": [
    "ca_data = rd.read_history(\"HIST\", [\"U\"])\n",
    "f_data = rd.read_history(\"HIST\", [\"O\"])"
   ]
  }
 ],
 "metadata": {
  "kernelspec": {
   "display_name": "Python 3",
   "language": "python",
   "name": "python3"
  },
  "language_info": {
   "codemirror_mode": {
    "name": "ipython",
    "version": 3
   },
   "file_extension": ".py",
   "mimetype": "text/x-python",
   "name": "python",
   "nbconvert_exporter": "python",
   "pygments_lexer": "ipython3",
   "version": "3.7.0"
  }
 },
 "nbformat": 4,
 "nbformat_minor": 2
}
