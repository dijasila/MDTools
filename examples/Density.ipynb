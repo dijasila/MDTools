{
 "cells": [
  {
   "cell_type": "markdown",
   "metadata": {},
   "source": [
    "# Polypy\n",
    "\n",
    "### Tutorial 1 "
   ]
  },
  {
   "cell_type": "code",
   "execution_count": 1,
   "metadata": {},
   "outputs": [],
   "source": [
    "from polypy import read as rd\n",
    "from polypy import density as Dens\n",
    "from polypy import utils as ut\n",
    "from polypy import write as wr\n",
    "import numpy as np\n",
    "import matplotlib.pyplot as plt\n",
    "import seaborn as sns\n",
    "from matplotlib.colors import ListedColormap\n"
   ]
  },
  {
   "cell_type": "code",
   "execution_count": 2,
   "metadata": {},
   "outputs": [],
   "source": [
    "timestep = 0.25\n",
    "data = rd.read_history(\"example_data/HISTORY\", [\"CA\", \"F\"])"
   ]
  },
  {
   "cell_type": "code",
   "execution_count": null,
   "metadata": {},
   "outputs": [
    {
     "name": "stdout",
     "output_type": "stream",
     "text": [
      "Multiple atom types detected - Splitting Coordinates\n"
     ]
    }
   ],
   "source": [
    "total_density = Dens.Density(data)\n",
    "ca_density = Dens.Density(data, atom_type=\"CA\")\n",
    "f_density = Dens.Density(data, atom_type=\"F\")"
   ]
  },
  {
   "cell_type": "markdown",
   "metadata": {},
   "source": [
    "### Calculating the total number of species within a region"
   ]
  },
  {
   "cell_type": "code",
   "execution_count": null,
   "metadata": {},
   "outputs": [],
   "source": [
    "plane = ca_density.one_dimensional_density_sb(ul=5.0, ll=-5.0)\n",
    "print(\"Total Number of Ca Between -5.0 - 5.0 :\", plane, \" across \", data['timesteps'], \"timesteps\")\n",
    "print(\"Average Number of Ca Between -5.0 - 5.0 :\", plane / data['timesteps'])\n",
    "\n",
    "plane = f_density.one_dimensional_density_sb(ul=5.0, ll=-5.0)\n",
    "print(\"Total Number of F Between -5.0 - 5.0 :\", plane, \" across \", data['timesteps'], \"timesteps\")\n",
    "print(\"Average Number of F Between -5.0 - 5.0 :\", plane / data['timesteps'])"
   ]
  },
  {
   "cell_type": "markdown",
   "metadata": {},
   "source": [
    "## One Dimension\n",
    "\n",
    "### number density"
   ]
  },
  {
   "cell_type": "code",
   "execution_count": null,
   "metadata": {},
   "outputs": [],
   "source": [
    "cx, cy = ca_density.one_dimensional_density(Bin=0.1, direction=\"x\")\n",
    "fx, fy = f_density.one_dimensional_density(Bin=0.1, direction=\"x\")\n",
    "\n",
    "wr.one_dimensional_density_plot([fx, cx], [fy, cy], [\"F\", \"Ca\"])"
   ]
  },
  {
   "cell_type": "markdown",
   "metadata": {},
   "source": [
    "### Charge Density\n",
    "\n",
    "\\begin{align}\n",
    "\\rho_q(z) = \\sum_{i} q_i \\rho_i(z)\n",
    "\\end{align}"
   ]
  },
  {
   "cell_type": "code",
   "execution_count": null,
   "metadata": {
    "scrolled": false
   },
   "outputs": [],
   "source": [
    "bin_volume = 0.1 * np.mean(data['lv'][:,1] * np.mean(data['lv'][:,2]))\n",
    "\n",
    "charge_density = ut.one_dimensional_charge_density([fy, cy], [-1.0, 2.0], bin_volume)\n",
    "\n",
    "wr.one_dimensional_charge_density_plot(fx, charge_density)"
   ]
  },
  {
   "cell_type": "markdown",
   "metadata": {},
   "source": [
    "### Electric Field\n",
    "\n",
    "\\begin{align}\n",
    "E(z) = \\frac{1}{- \\epsilon_{0}} \\int_{z_{0}}^{z} \\rho_{q}(z')dz'\n",
    "\\end{align}"
   ]
  },
  {
   "cell_type": "code",
   "execution_count": null,
   "metadata": {},
   "outputs": [],
   "source": [
    "dx, e_field, potential = ut.poisson_solver(fx, charge_density, data['timesteps'])\n",
    "wr.electric_field_plot(dx, e_field)"
   ]
  },
  {
   "cell_type": "markdown",
   "metadata": {},
   "source": [
    "### Electrostatic Potential\n",
    "\n",
    "\\begin{align}\n",
    "\\Delta_{\\psi}(z) = \\int_{z_{0}}^{z} E(z')dz'\n",
    "\\end{align}"
   ]
  },
  {
   "cell_type": "code",
   "execution_count": null,
   "metadata": {},
   "outputs": [],
   "source": [
    "wr.electrostatic_potential_plot(dx, potential)"
   ]
  },
  {
   "cell_type": "markdown",
   "metadata": {},
   "source": [
    "## Two Dimensions\n",
    "\n",
    "### Number Density"
   ]
  },
  {
   "cell_type": "code",
   "execution_count": null,
   "metadata": {},
   "outputs": [],
   "source": [
    "cx, cy, cz = ca_density.two_dimensional_density(box=0.1)\n",
    "fx, fy, fz = f_density.two_dimensional_density(box=0.1)\n",
    "\n",
    "wr.two_dimensional_density_plot(cx, cy, cz)\n",
    "wr.two_dimensional_density_plot(fx, fy, fz)"
   ]
  },
  {
   "cell_type": "markdown",
   "metadata": {},
   "source": [
    "### Charge Density"
   ]
  },
  {
   "cell_type": "code",
   "execution_count": null,
   "metadata": {},
   "outputs": [],
   "source": [
    "box_volume = 0.1 * 0.1 * np.mean(data['lv'][:,0])\n",
    "\n",
    "charge_density = ut.two_dimensional_charge_density([fz, cz], [-1.0, 2.0], box_volume)\n",
    "wr.two_dimensional_charge_density_plot(fx, fy, charge_density)"
   ]
  },
  {
   "cell_type": "markdown",
   "metadata": {},
   "source": [
    "## One and Two Dimensions"
   ]
  },
  {
   "cell_type": "code",
   "execution_count": null,
   "metadata": {
    "scrolled": false
   },
   "outputs": [],
   "source": [
    "cx, cy, cz, cy2 = ca_density.one_and_two_dimension_overlay(box=0.1)\n",
    "fx, fy, fz, fy2 = f_density.one_and_two_dimension_overlay(box=0.1)\n",
    "\n",
    "wr.combined_density_plot(tx, ty, tz, ty2)\n",
    "wr.combined_density_plot(cx, cy, cz, cy2)\n",
    "wr.combined_density_plot(fx, fy, fz, fy2)"
   ]
  },
  {
   "cell_type": "code",
   "execution_count": null,
   "metadata": {},
   "outputs": [],
   "source": []
  }
 ],
 "metadata": {
  "kernelspec": {
   "display_name": "Python 3",
   "language": "python",
   "name": "python3"
  },
  "language_info": {
   "codemirror_mode": {
    "name": "ipython",
    "version": 3
   },
   "file_extension": ".py",
   "mimetype": "text/x-python",
   "name": "python",
   "nbconvert_exporter": "python",
   "pygments_lexer": "ipython3",
   "version": "3.7.0"
  }
 },
 "nbformat": 4,
 "nbformat_minor": 2
}
