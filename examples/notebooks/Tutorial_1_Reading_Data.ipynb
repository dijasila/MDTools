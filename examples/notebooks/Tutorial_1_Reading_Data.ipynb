{
 "cells": [
  {
   "cell_type": "markdown",
   "metadata": {},
   "source": [
    "## Tutorial 1 - Reading data\n",
    "\n",
    "The HISTORY, ARCHIVE and CONFIG classes expects two things, the filename of the history file and a list of atoms to read. They will return a `polypy.read.Trajectory` object, which stores the the atom labels (`Trajectory.atom_list`), datatype (`Trajectory.datatype`), cartesian coordinates (`Trajectory.cartesian_coordinates`), fractiona coordinates (`Trajectory.fractional_coordinates`), reciprocal lattice vectors (`Trajectory.reciprocal_lv`), lattice vectors (`Trajectory.lv`) cell lengths (`Trajectory.cell_lengths`), total atoms in the file (`Trajectory.atoms_in_history`), timesteps (`Trajectory.timesteps`), total atoms per timestep (`Trajectory.total_atoms`)."
   ]
  },
  {
   "cell_type": "markdown",
   "metadata": {},
   "source": [
    "### HISTORY Files"
   ]
  },
  {
   "cell_type": "code",
   "execution_count": 1,
   "metadata": {},
   "outputs": [],
   "source": [
    "from polypy import read as rd"
   ]
  },
  {
   "cell_type": "code",
   "execution_count": 2,
   "metadata": {},
   "outputs": [],
   "source": [
    "history = rd.History(\"../example_data/HISTORY_CaF2\", [\"CA\", \"F\"])"
   ]
  },
  {
   "cell_type": "code",
   "execution_count": 3,
   "metadata": {},
   "outputs": [
    {
     "name": "stdout",
     "output_type": "stream",
     "text": [
      "[[0.5170937  0.51658126 0.51643485]\n",
      " [0.51658126 0.61669107 0.61654466]\n",
      " [0.61669107 0.51658126 0.61691069]\n",
      " ...\n",
      " [0.46866197 0.25395423 0.58485915]\n",
      " [0.37035211 0.58795775 0.45221831]\n",
      " [0.36552817 0.48637324 0.17484859]]\n"
     ]
    }
   ],
   "source": [
    "print(history.trajectory.fractional_trajectory)"
   ]
  },
  {
   "cell_type": "code",
   "execution_count": 4,
   "metadata": {},
   "outputs": [
    {
     "name": "stdout",
     "output_type": "stream",
     "text": [
      "500\n"
     ]
    }
   ],
   "source": [
    "print(history.trajectory.timesteps)"
   ]
  },
  {
   "cell_type": "code",
   "execution_count": 5,
   "metadata": {},
   "outputs": [
    {
     "name": "stdout",
     "output_type": "stream",
     "text": [
      "750000\n"
     ]
    }
   ],
   "source": [
    "print(history.trajectory.atoms_in_history)"
   ]
  },
  {
   "cell_type": "code",
   "execution_count": 6,
   "metadata": {},
   "outputs": [
    {
     "name": "stdout",
     "output_type": "stream",
     "text": [
      "1500\n"
     ]
    }
   ],
   "source": [
    "print(history.trajectory.total_atoms)"
   ]
  },
  {
   "cell_type": "markdown",
   "metadata": {},
   "source": [
    "It is often necessary to remove the equilibriation timesteps from the simulation. This can be accomlished with the remove_initial_timesteps method to remove timesteps at the start of the simulation and the remove_final_timesteps, to remove timesteps at the end of the simulation. "
   ]
  },
  {
   "cell_type": "code",
   "execution_count": 7,
   "metadata": {},
   "outputs": [
    {
     "name": "stdout",
     "output_type": "stream",
     "text": [
      "490\n"
     ]
    }
   ],
   "source": [
    "new_history = history.trajectory.remove_initial_timesteps(10)\n",
    "print(new_history.timesteps)"
   ]
  },
  {
   "cell_type": "code",
   "execution_count": 8,
   "metadata": {},
   "outputs": [
    {
     "name": "stdout",
     "output_type": "stream",
     "text": [
      "480\n"
     ]
    }
   ],
   "source": [
    "new_history = new_history.remove_final_timesteps(10)\n",
    "print(new_history.timesteps)"
   ]
  },
  {
   "cell_type": "markdown",
   "metadata": {},
   "source": [
    "It is possible to return the trajectory for a single timestep within the history file or to return the trajectory for a single atom. "
   ]
  },
  {
   "cell_type": "code",
   "execution_count": 9,
   "metadata": {},
   "outputs": [
    {
     "name": "stdout",
     "output_type": "stream",
     "text": [
      "[[0.5170937  0.51658126 0.51643485]\n",
      " [0.51658126 0.61669107 0.61654466]\n",
      " [0.61669107 0.51658126 0.61691069]\n",
      " ...\n",
      " [0.31458099 0.41869718 0.41764085]\n",
      " [0.42742958 0.32461268 0.42507042]\n",
      " [0.42485915 0.42183099 0.31564789]]\n"
     ]
    }
   ],
   "source": [
    "config_ca = history.trajectory.get_atom(\"CA\")\n",
    "\n",
    "print(config_ca.fractional_trajectory)"
   ]
  },
  {
   "cell_type": "code",
   "execution_count": 10,
   "metadata": {},
   "outputs": [
    {
     "name": "stdout",
     "output_type": "stream",
     "text": [
      "[[0.53227339 0.51016082 0.50950292]\n",
      " [0.52116228 0.62894737 0.61761696]\n",
      " [0.62240497 0.50526316 0.6056652 ]\n",
      " ...\n",
      " [0.39444444 0.44974415 0.45102339]\n",
      " [0.45599415 0.37865497 0.39890351]\n",
      " [0.36343202 0.49309211 0.3690424 ]]\n"
     ]
    }
   ],
   "source": [
    "config_1 = history.trajectory.get_config(1)\n",
    "\n",
    "print(config_1.fractional_trajectory)"
   ]
  },
  {
   "cell_type": "markdown",
   "metadata": {},
   "source": [
    "### CONFIG Files\n"
   ]
  },
  {
   "cell_type": "code",
   "execution_count": 11,
   "metadata": {},
   "outputs": [],
   "source": [
    "config = rd.Config(\"../example_data/CONFIG\", [\"CA\", \"F\"])"
   ]
  },
  {
   "cell_type": "code",
   "execution_count": 12,
   "metadata": {},
   "outputs": [
    {
     "name": "stdout",
     "output_type": "stream",
     "text": [
      "[[0.51666667 0.51666667 0.51666667]\n",
      " [0.51666667 0.61666667 0.61666667]\n",
      " [0.61666667 0.51666667 0.61666667]\n",
      " ...\n",
      " [0.36666667 0.46666667 0.46666667]\n",
      " [0.46666667 0.36666667 0.36666667]\n",
      " [0.36666667 0.46666667 0.36666667]]\n"
     ]
    }
   ],
   "source": [
    "print(config.trajectory.fractional_trajectory)"
   ]
  },
  {
   "cell_type": "markdown",
   "metadata": {},
   "source": [
    "### DLMONTE"
   ]
  },
  {
   "cell_type": "code",
   "execution_count": 13,
   "metadata": {},
   "outputs": [],
   "source": [
    "archive = rd.Archive(\"../example_data/ARCHIVE_Short\", [\"AL\"])"
   ]
  },
  {
   "cell_type": "code",
   "execution_count": 14,
   "metadata": {},
   "outputs": [
    {
     "name": "stdout",
     "output_type": "stream",
     "text": [
      "1000\n"
     ]
    }
   ],
   "source": [
    "print(archive.trajectory.timesteps)"
   ]
  },
  {
   "cell_type": "code",
   "execution_count": null,
   "metadata": {},
   "outputs": [],
   "source": []
  }
 ],
 "metadata": {
  "kernelspec": {
   "display_name": "Python 3",
   "language": "python",
   "name": "python3"
  },
  "language_info": {
   "codemirror_mode": {
    "name": "ipython",
    "version": 3
   },
   "file_extension": ".py",
   "mimetype": "text/x-python",
   "name": "python",
   "nbconvert_exporter": "python",
   "pygments_lexer": "ipython3",
   "version": "3.7.4"
  }
 },
 "nbformat": 4,
 "nbformat_minor": 2
}
