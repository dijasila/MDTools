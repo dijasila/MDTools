{
 "cells": [
  {
   "cell_type": "markdown",
   "metadata": {},
   "source": [
    "# Tutorial 2\n",
    "\n",
    "## Density Analysis\n",
    "\n",
    "Understanding the particle density of a material is incredibly useful when studying things like defect segregation and atomic structure. Consider a system with a grain boundary, it may be interesting to know the structure changes at the boundary, e.g is there an increase or decrease in the amount of a certain species at the grain boundary and does this inform you about aby segregation behaviour? Another example involves a surface with a layer of water\n",
    "\n",
    "The density module of polypy allows the particle density to be evaluated in one and two dimensions, this can then be converted into a charge density and (in one dimension) the electric field and electrostatic potential. "
   ]
  },
  {
   "cell_type": "code",
   "execution_count": 1,
   "metadata": {},
   "outputs": [],
   "source": [
    "from polypy import read as rd\n",
    "from polypy import density as Dens\n",
    "from polypy import utils as ut\n",
    "from polypy import write as wr\n",
    "import numpy as np"
   ]
  },
  {
   "cell_type": "markdown",
   "metadata": {},
   "source": [
    "The first step is to read the data. We want the data for both species so need to provide a list of the species.\n",
    "\n",
    "```\n",
    "[\"CA\", \"F\"]\n",
    "```"
   ]
  },
  {
   "cell_type": "code",
   "execution_count": 2,
   "metadata": {},
   "outputs": [],
   "source": [
    "data = rd.read_history(\"../example_data/HISTORY\", [\"CA\", \"F\"])"
   ]
  },
  {
   "cell_type": "markdown",
   "metadata": {},
   "source": [
    "The next step is to create the density object for both species."
   ]
  },
  {
   "cell_type": "code",
   "execution_count": 3,
   "metadata": {},
   "outputs": [
    {
     "ename": "AttributeError",
     "evalue": "'dict' object has no attribute 'atom_coordinates'",
     "output_type": "error",
     "traceback": [
      "\u001b[0;31m---------------------------------------------------------------------------\u001b[0m",
      "\u001b[0;31mAttributeError\u001b[0m                            Traceback (most recent call last)",
      "\u001b[0;32m<ipython-input-3-082107b703c3>\u001b[0m in \u001b[0;36m<module>\u001b[0;34m()\u001b[0m\n\u001b[0;32m----> 1\u001b[0;31m \u001b[0mca_density\u001b[0m \u001b[0;34m=\u001b[0m \u001b[0mDens\u001b[0m\u001b[0;34m.\u001b[0m\u001b[0mDensity\u001b[0m\u001b[0;34m(\u001b[0m\u001b[0mdata\u001b[0m\u001b[0;34m,\u001b[0m \u001b[0matom_type\u001b[0m\u001b[0;34m=\u001b[0m\u001b[0;34m\"CA\"\u001b[0m\u001b[0;34m)\u001b[0m\u001b[0;34m\u001b[0m\u001b[0m\n\u001b[0m\u001b[1;32m      2\u001b[0m \u001b[0mf_density\u001b[0m \u001b[0;34m=\u001b[0m \u001b[0mDens\u001b[0m\u001b[0;34m.\u001b[0m\u001b[0mDensity\u001b[0m\u001b[0;34m(\u001b[0m\u001b[0mdata\u001b[0m\u001b[0;34m,\u001b[0m \u001b[0matom_type\u001b[0m\u001b[0;34m=\u001b[0m\u001b[0;34m\"F\"\u001b[0m\u001b[0;34m)\u001b[0m\u001b[0;34m\u001b[0m\u001b[0m\n",
      "\u001b[0;32m~/anaconda3/lib/python3.7/site-packages/polypy-0.3-py3.7.egg/polypy/density.py\u001b[0m in \u001b[0;36m__init__\u001b[0;34m(self, data, atom_type)\u001b[0m\n\u001b[1;32m     21\u001b[0m         \u001b[0mself\u001b[0m\u001b[0;34m.\u001b[0m\u001b[0matom_type\u001b[0m \u001b[0;34m=\u001b[0m \u001b[0matom_type\u001b[0m\u001b[0;34m\u001b[0m\u001b[0m\n\u001b[1;32m     22\u001b[0m         \u001b[0;32mif\u001b[0m \u001b[0matom_type\u001b[0m\u001b[0;34m:\u001b[0m\u001b[0;34m\u001b[0m\u001b[0m\n\u001b[0;32m---> 23\u001b[0;31m             \u001b[0mself\u001b[0m\u001b[0;34m.\u001b[0m\u001b[0mcoords\u001b[0m \u001b[0;34m=\u001b[0m \u001b[0mself\u001b[0m\u001b[0;34m.\u001b[0m\u001b[0mdata\u001b[0m\u001b[0;34m.\u001b[0m\u001b[0matom_coordinates\u001b[0m\u001b[0;34m(\u001b[0m\u001b[0matom_type\u001b[0m\u001b[0;34m)\u001b[0m\u001b[0;34m\u001b[0m\u001b[0m\n\u001b[0m\u001b[1;32m     24\u001b[0m         \u001b[0mself\u001b[0m\u001b[0;34m.\u001b[0m\u001b[0mlv\u001b[0m \u001b[0;34m=\u001b[0m \u001b[0mself\u001b[0m\u001b[0;34m.\u001b[0m\u001b[0mdata\u001b[0m\u001b[0;34m.\u001b[0m\u001b[0mlattice_vectors\u001b[0m\u001b[0;34m(\u001b[0m\u001b[0;34m)\u001b[0m\u001b[0;34m\u001b[0m\u001b[0m\n\u001b[1;32m     25\u001b[0m \u001b[0;34m\u001b[0m\u001b[0m\n",
      "\u001b[0;31mAttributeError\u001b[0m: 'dict' object has no attribute 'atom_coordinates'"
     ]
    }
   ],
   "source": [
    "ca_density = Dens.Density(data, atom_type=\"CA\")\n",
    "f_density = Dens.Density(data, atom_type=\"F\")"
   ]
  },
  {
   "cell_type": "markdown",
   "metadata": {},
   "source": [
    "### Calculating the total number of species within a region\n",
    "\n",
    "The first feature of the density class is the one_dimensional_density_sb function, which calculates the total number of atoms between an upper and lower coordinate value e.g. the top and bottom coordinates of a slab, or edges of a grain boundary. "
   ]
  },
  {
   "cell_type": "code",
   "execution_count": null,
   "metadata": {},
   "outputs": [],
   "source": [
    "plane = ca_density.one_dimensional_density_sb(ul=5.0, ll=-5.0)\n",
    "print(\"Total Number of Ca Between -5.0 - 5.0   :\", plane, \" across \", data['timesteps'], \"timesteps\")\n",
    "print(\"Average Number of Ca Between -5.0 - 5.0 :\", plane / data['timesteps'])\n",
    "\n",
    "plane = f_density.one_dimensional_density_sb(ul=5.0, ll=-5.0)\n",
    "print(\"Total Number of F Between -5.0 - 5.0   :\", plane, \" across \", data['timesteps'], \"timesteps\")\n",
    "print(\"Average Number of F Between -5.0 - 5.0 :\", plane / data['timesteps'])"
   ]
  },
  {
   "cell_type": "markdown",
   "metadata": {},
   "source": [
    "## One Dimension\n",
    "\n",
    "### Particle Density\n",
    "\n",
    "The one_dimensional_density function will take a bin size e.g. 0.1 $AA$ and a direction e.g. the first lattice vector and calculate the total number of a species in 0.1 $AA$ bins in the first lattice vector.\n",
    "\n",
    "The function will return the positions of the bins and the total number of species. These can then be plotted with the one_dimensional_plot function which takes a list of x values, a list of y values and a list of labels. "
   ]
  },
  {
   "cell_type": "code",
   "execution_count": null,
   "metadata": {},
   "outputs": [],
   "source": [
    "cx, cy = ca_density.one_dimensional_density(histogram_width=0.1, direction=\"x\")\n",
    "fx, fy = f_density.one_dimensional_density(histogram_width=0.1, direction=\"x\")\n",
    "\n",
    "wr.one_dimensional_density_plot([fx, cx], [fy, cy], [\"F\", \"Ca\"])"
   ]
  },
  {
   "cell_type": "markdown",
   "metadata": {},
   "source": [
    "### Charge Density\n",
    "\n",
    "The particle densities can be combined with the particle charges to generate the one dimensional charge density according to \n",
    "\n",
    "\\begin{align}\n",
    "\\rho_q(z) = \\sum_{i} q_i \\rho_i(z)\n",
    "\\end{align}\n",
    "\n",
    "where $\\rho_{i}$ is the density of atom i and $q_{i}$ is its charge.  \n",
    "\n",
    "The one_dimensional_charge_density function requires a list of particle densities, list of charges and the bin volume. "
   ]
  },
  {
   "cell_type": "code",
   "execution_count": null,
   "metadata": {
    "scrolled": false
   },
   "outputs": [],
   "source": [
    "bin_volume = 0.1 * np.mean(data['lv'][:,1] * np.mean(data['lv'][:,2]))\n",
    "\n",
    "charge_density = ut.one_dimensional_charge_density([fy, cy], [-1.0, 2.0], bin_volume)\n",
    "\n",
    "wr.one_dimensional_charge_density_plot(fx, charge_density)"
   ]
  },
  {
   "cell_type": "markdown",
   "metadata": {},
   "source": [
    "### Electric Field and Electrostatic Potential\n",
    "\n",
    "The charge density can be converted into the electric field and the electrostatic potential.\n",
    "\n",
    "\\begin{align}\n",
    "E(z) = \\frac{1}{- \\epsilon_{0}} \\int_{z_{0}}^{z} \\rho_{q}(z')dz'\n",
    "\\end{align}\n",
    "\n",
    "\n",
    "\\begin{align}\n",
    "\\Delta_{\\psi}(z) = \\int_{z_{0}}^{z} E(z')dz'\n",
    "\\end{align}\n",
    "\n",
    "The poisson solver function will take the bin positions, and the charge density and return the electric field and the electrostatic potential. "
   ]
  },
  {
   "cell_type": "code",
   "execution_count": null,
   "metadata": {},
   "outputs": [],
   "source": [
    "dx, e_field, potential = ut.poisson_solver(fx, charge_density, data['timesteps'])\n",
    "wr.electric_field_plot(dx, e_field)"
   ]
  },
  {
   "cell_type": "code",
   "execution_count": null,
   "metadata": {},
   "outputs": [],
   "source": [
    "wr.electrostatic_potential_plot(dx, potential)"
   ]
  },
  {
   "cell_type": "markdown",
   "metadata": {},
   "source": [
    "## Two Dimensions\n",
    "\n",
    "### Particle Density\n",
    "\n",
    "The particle density can be evaluated in two dimensions. The two_dimensional_density function will calculate the total number of species in cuboids. The coordinates in x and y of the box are returned and a grid of species counts are returned. "
   ]
  },
  {
   "cell_type": "code",
   "execution_count": null,
   "metadata": {},
   "outputs": [],
   "source": [
    "cx, cy, cz = ca_density.two_dimensional_density(box=0.1, direction=\"x\")\n",
    "fx, fy, fz = f_density.two_dimensional_density(box=0.1, direction=\"x\")\n",
    "\n",
    "wr.two_dimensional_density_plot(cx, cy, cz)\n",
    "wr.two_dimensional_density_plot(fx, fy, fz)"
   ]
  },
  {
   "cell_type": "markdown",
   "metadata": {},
   "source": [
    "### Charge Density\n",
    "\n",
    "In the same fashion as the one dimensional case, the charge density can be evaluated in two dimensions using the two_dimensional_charge_density function. "
   ]
  },
  {
   "cell_type": "code",
   "execution_count": null,
   "metadata": {},
   "outputs": [],
   "source": [
    "box_volume = 0.1 * 0.1 * np.mean(data['lv'][:,0])\n",
    "\n",
    "charge_density = ut.two_dimensional_charge_density([fz, cz], [-1.0, 2.0], box_volume)\n",
    "wr.two_dimensional_charge_density_plot(fx, fy, charge_density)"
   ]
  },
  {
   "cell_type": "markdown",
   "metadata": {},
   "source": [
    "## One and Two Dimensions\n",
    "\n",
    "Finally, the contour plots can give a good understanding of the average positions of the atoms (or the location of the lattice sites) however it does not give a good representation of how many species are actually there. The one_and_two_dimensional_overlay function will evaluate the particle dnesity in one and two dimensions and then overlay the two on to a single plot, allowing both the lattice sites, and total density to be viewed. "
   ]
  },
  {
   "cell_type": "code",
   "execution_count": null,
   "metadata": {
    "scrolled": false
   },
   "outputs": [],
   "source": [
    "cx, cy, cz, cy2 = ca_density.one_and_two_dimension_overlay(box=0.1)\n",
    "fx, fy, fz, fy2 = f_density.one_and_two_dimension_overlay(box=0.1)\n",
    "\n",
    "wr.combined_density_plot(cx, cy, cz, cy2)\n",
    "wr.combined_density_plot(fx, fy, fz, fy2)"
   ]
  }
 ],
 "metadata": {
  "kernelspec": {
   "display_name": "Python 3",
   "language": "python",
   "name": "python3"
  },
  "language_info": {
   "codemirror_mode": {
    "name": "ipython",
    "version": 3
   },
   "file_extension": ".py",
   "mimetype": "text/x-python",
   "name": "python",
   "nbconvert_exporter": "python",
   "pygments_lexer": "ipython3",
   "version": "3.7.0"
  }
 },
 "nbformat": 4,
 "nbformat_minor": 2
}
