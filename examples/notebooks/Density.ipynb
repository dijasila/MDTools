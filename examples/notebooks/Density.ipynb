{
 "cells": [
  {
   "cell_type": "markdown",
   "metadata": {},
   "source": [
    "# Tutorial 2\n",
    "\n",
    "## Density Analysis\n",
    "\n",
    "Understanding the particle density of a material is incredibly useful when studying things like defect segregation and atomic structure. Consider a system with a grain boundary, it may be interesting to know the structure changes at the boundary, e.g is there an increase or decrease in the amount of a certain species at the grain boundary and does this inform you about aby segregation behaviour? Another example involves a surface with a layer of water\n",
    "\n",
    "The density module of polypy allows the particle density to be evaluated in one and two dimensions, this can then be converted into a charge density and (in one dimension) the electric field and electrostatic potential. "
   ]
  },
  {
   "cell_type": "code",
   "execution_count": 1,
   "metadata": {},
   "outputs": [],
   "source": [
    "from polypy.read import History\n",
    "from polypy.density import Density\n",
    "from polypy import analysis\n",
    "from polypy import utils as ut\n",
    "from polypy import plotting\n",
    "import numpy as np\n",
    "import matplotlib.pyplot as plt"
   ]
  },
  {
   "cell_type": "markdown",
   "metadata": {},
   "source": [
    "The first step is to read the data. We want the data for both species so need to provide a list of the species.\n",
    "\n",
    "```\n",
    "[\"CA\", \"F\"]\n",
    "```"
   ]
  },
  {
   "cell_type": "code",
   "execution_count": 2,
   "metadata": {},
   "outputs": [],
   "source": [
    "history = History(\"../example_data/HISTORY\", [\"CA\", \"F\"])"
   ]
  },
  {
   "cell_type": "markdown",
   "metadata": {},
   "source": [
    "The next step is to create the density object for both species."
   ]
  },
  {
   "cell_type": "code",
   "execution_count": 3,
   "metadata": {},
   "outputs": [],
   "source": [
    "ca_density = Density(history.trajectory, atom=\"CA\")\n",
    "f_density = Density(history.trajectory, atom=\"F\")"
   ]
  },
  {
   "cell_type": "markdown",
   "metadata": {},
   "source": [
    "## One Dimension\n",
    "\n",
    "### Particle Density\n",
    "\n",
    "The one_dimensional_density function will take a bin size e.g. 0.1 $AA$ and a direction e.g. the first lattice vector and calculate the total number of a species in 0.1 $AA$ bins in the first lattice vector.\n",
    "\n",
    "The function will return the positions of the bins and the total number of species. These can then be plotted with the one_dimensional_plot function which takes a list of x values, a list of y values and a list of labels. "
   ]
  },
  {
   "cell_type": "code",
   "execution_count": 4,
   "metadata": {},
   "outputs": [
    {
     "ename": "NameError",
     "evalue": "name 'ca_density' is not defined",
     "output_type": "error",
     "traceback": [
      "\u001b[0;31m---------------------------------------------------------------------------\u001b[0m",
      "\u001b[0;31mNameError\u001b[0m                                 Traceback (most recent call last)",
      "\u001b[0;32m<ipython-input-4-c8e10fe5a545>\u001b[0m in \u001b[0;36m<module>\u001b[0;34m\u001b[0m\n\u001b[0;32m----> 1\u001b[0;31m \u001b[0mcx\u001b[0m\u001b[0;34m,\u001b[0m \u001b[0mcy\u001b[0m\u001b[0;34m,\u001b[0m \u001b[0mc_volume\u001b[0m \u001b[0;34m=\u001b[0m \u001b[0mca_density\u001b[0m\u001b[0;34m.\u001b[0m\u001b[0mone_dimensional_density\u001b[0m\u001b[0;34m(\u001b[0m\u001b[0mdirection\u001b[0m\u001b[0;34m=\u001b[0m\u001b[0;34m\"z\"\u001b[0m\u001b[0;34m)\u001b[0m\u001b[0;34m\u001b[0m\u001b[0;34m\u001b[0m\u001b[0m\n\u001b[0m\u001b[1;32m      2\u001b[0m \u001b[0mfx\u001b[0m\u001b[0;34m,\u001b[0m \u001b[0mfy\u001b[0m\u001b[0;34m,\u001b[0m \u001b[0mf_volume\u001b[0m \u001b[0;34m=\u001b[0m \u001b[0mf_density\u001b[0m\u001b[0;34m.\u001b[0m\u001b[0mone_dimensional_density\u001b[0m\u001b[0;34m(\u001b[0m\u001b[0mdirection\u001b[0m\u001b[0;34m=\u001b[0m\u001b[0;34m\"z\"\u001b[0m\u001b[0;34m)\u001b[0m\u001b[0;34m\u001b[0m\u001b[0;34m\u001b[0m\u001b[0m\n\u001b[1;32m      3\u001b[0m \u001b[0;34m\u001b[0m\u001b[0m\n\u001b[1;32m      4\u001b[0m \u001b[0max\u001b[0m \u001b[0;34m=\u001b[0m \u001b[0mplotting\u001b[0m\u001b[0;34m.\u001b[0m\u001b[0mone_dimensional_density_plot\u001b[0m\u001b[0;34m(\u001b[0m\u001b[0;34m[\u001b[0m\u001b[0mfx\u001b[0m\u001b[0;34m,\u001b[0m \u001b[0mcx\u001b[0m\u001b[0;34m]\u001b[0m\u001b[0;34m,\u001b[0m \u001b[0;34m[\u001b[0m\u001b[0mfy\u001b[0m\u001b[0;34m,\u001b[0m \u001b[0mcy\u001b[0m\u001b[0;34m]\u001b[0m\u001b[0;34m,\u001b[0m \u001b[0;34m[\u001b[0m\u001b[0;34m\"F\"\u001b[0m\u001b[0;34m,\u001b[0m \u001b[0;34m\"Ca\"\u001b[0m\u001b[0;34m]\u001b[0m\u001b[0;34m)\u001b[0m\u001b[0;34m\u001b[0m\u001b[0;34m\u001b[0m\u001b[0m\n\u001b[1;32m      5\u001b[0m \u001b[0mplt\u001b[0m\u001b[0;34m.\u001b[0m\u001b[0mshow\u001b[0m\u001b[0;34m(\u001b[0m\u001b[0;34m)\u001b[0m\u001b[0;34m\u001b[0m\u001b[0;34m\u001b[0m\u001b[0m\n",
      "\u001b[0;31mNameError\u001b[0m: name 'ca_density' is not defined"
     ]
    }
   ],
   "source": [
    "cx, cy, c_volume = ca_density.one_dimensional_density(direction=\"z\")\n",
    "fx, fy, f_volume = f_density.one_dimensional_density(direction=\"z\")\n",
    "\n",
    "ax = plotting.one_dimensional_density_plot([fx, cx], [fy, cy], [\"F\", \"Ca\"])\n",
    "plt.show()"
   ]
  },
  {
   "cell_type": "markdown",
   "metadata": {},
   "source": [
    "### Charge Density\n",
    "\n",
    "The particle densities can be combined with the particle charges to generate the one dimensional charge density according to \n",
    "\n",
    "\\begin{align}\n",
    "\\rho_q(z) = \\sum_{i} q_i \\rho_i(z)\n",
    "\\end{align}\n",
    "\n",
    "where $\\rho_{i}$ is the density of atom i and $q_{i}$ is its charge.  \n",
    "\n",
    "The one_dimensional_charge_density function requires a list of particle densities, list of charges and the bin volume. "
   ]
  },
  {
   "cell_type": "code",
   "execution_count": null,
   "metadata": {
    "scrolled": false
   },
   "outputs": [],
   "source": [
    "charge = analysis.OneDimensionalChargeDensity(fx, [fy, cy], [-1.0, 2.0], c_volume, history.trajectory.timesteps)\n",
    "\n",
    "dx, charge_density = charge.calculate_charge_density()\n",
    "\n",
    "ax = plotting.one_dimensional_charge_density_plot(dx, charge_density)\n",
    "plt.show()"
   ]
  },
  {
   "cell_type": "markdown",
   "metadata": {},
   "source": [
    "### Electric Field and Electrostatic Potential\n",
    "\n",
    "The charge density can be converted into the electric field and the electrostatic potential.\n",
    "\n",
    "\\begin{align}\n",
    "E(z) = \\frac{1}{- \\epsilon_{0}} \\int_{z_{0}}^{z} \\rho_{q}(z')dz'\n",
    "\\end{align}\n",
    "\n",
    "\n",
    "\\begin{align}\n",
    "\\Delta_{\\psi}(z) = \\int_{z_{0}}^{z} E(z')dz'\n",
    "\\end{align}\n",
    "\n",
    "The poisson solver function will take the bin positions, and the charge density and return the electric field and the electrostatic potential. "
   ]
  },
  {
   "cell_type": "code",
   "execution_count": null,
   "metadata": {},
   "outputs": [],
   "source": [
    "dx, electric_field = charge.calculate_electric_field()\n",
    "ax = plotting.electric_field_plot(dx, electric_field)\n",
    "plt.show()"
   ]
  },
  {
   "cell_type": "code",
   "execution_count": null,
   "metadata": {},
   "outputs": [],
   "source": [
    "dx, electrostatic_potential = charge.calculate_electrostatic_potential()\n",
    "\n",
    "ax = plotting.electrostatic_potential_plot(dx, electrostatic_potential)\n",
    "plt.show()\n"
   ]
  },
  {
   "cell_type": "markdown",
   "metadata": {},
   "source": [
    "## Two Dimensions\n",
    "\n",
    "### Particle Density\n",
    "\n",
    "The particle density can be evaluated in two dimensions. The two_dimensional_density function will calculate the total number of species in cuboids. The coordinates in x and y of the box are returned and a grid of species counts are returned. "
   ]
  },
  {
   "cell_type": "code",
   "execution_count": null,
   "metadata": {},
   "outputs": [],
   "source": [
    "cx_2d, cy_2d, cz_2d, c_volume = ca_density.two_dimensional_density(direction=\"x\")\n",
    "fx_2d, fy_2d, fz_2d, f_volume = f_density.two_dimensional_density(direction=\"x\")\n",
    "\n",
    "fig, ax = plotting.two_dimensional_density_plot(cx_2d, cy_2d, cz_2d)\n",
    "plt.show()\n",
    "\n",
    "fig, ax = plotting.two_dimensional_density_plot(fx_2d, fy_2d, fz_2d)\n",
    "plt.show()"
   ]
  },
  {
   "cell_type": "markdown",
   "metadata": {},
   "source": [
    "### Charge Density\n",
    "\n",
    "In the same fashion as the one dimensional case, the charge density can be evaluated in two dimensions using the two_dimensional_charge_density function. "
   ]
  },
  {
   "cell_type": "code",
   "execution_count": null,
   "metadata": {
    "scrolled": true
   },
   "outputs": [],
   "source": [
    "charge_density = analysis.two_dimensional_charge_density([fz_2d, cz_2d], [-1.0, 2.0], f_volume)\n",
    "\n",
    "fig, ax = plotting.two_dimensional_charge_density_plot(fx_2d, fy_2d, charge_density)\n",
    "plt.show()"
   ]
  },
  {
   "cell_type": "markdown",
   "metadata": {},
   "source": [
    "## One and Two Dimensions\n",
    "\n",
    "Finally, the contour plots can give a good understanding of the average positions of the atoms (or the location of the lattice sites) however it does not give a good representation of how many species are actually there. The one_and_two_dimensional_overlay function will evaluate the particle dnesity in one and two dimensions and then overlay the two on to a single plot, allowing both the lattice sites, and total density to be viewed. "
   ]
  },
  {
   "cell_type": "code",
   "execution_count": null,
   "metadata": {
    "scrolled": false
   },
   "outputs": [],
   "source": [
    "fig, ax = plotting.combined_density_plot(cx_2d, cy_2d, cz_2d)\n",
    "plt.show()\n",
    "\n",
    "fig, ax = plotting.combined_density_plot(fx_2d, fy_2d, fz_2d)\n",
    "plt.show()"
   ]
  },
  {
   "cell_type": "code",
   "execution_count": null,
   "metadata": {},
   "outputs": [],
   "source": []
  }
 ],
 "metadata": {
  "kernelspec": {
   "display_name": "Python 3",
   "language": "python",
   "name": "python3"
  },
  "language_info": {
   "codemirror_mode": {
    "name": "ipython",
    "version": 3
   },
   "file_extension": ".py",
   "mimetype": "text/x-python",
   "name": "python",
   "nbconvert_exporter": "python",
   "pygments_lexer": "ipython3",
   "version": "3.7.4"
  }
 },
 "nbformat": 4,
 "nbformat_minor": 2
}
