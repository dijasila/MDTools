{
 "cells": [
  {
   "cell_type": "code",
   "execution_count": 1,
   "metadata": {},
   "outputs": [],
   "source": [
    "import numpy as np\n",
    "from polypy import density\n",
    "from polypy import trajectory\n",
    "from polypy import read_dl_poly as dlpy\n",
    "from numpy import linalg as la\n",
    "import matplotlib.pyplot as plt"
   ]
  },
  {
   "cell_type": "code",
   "execution_count": 6,
   "metadata": {},
   "outputs": [
    {
     "name": "stdout",
     "output_type": "stream",
     "text": [
      "[1 2 3]\n"
     ]
    }
   ],
   "source": [
    "coords_1 = np.array([1, 2, 3])\n",
    "coords_2 = np.array([3, 2, 1])\n",
    "\n",
    "\n",
    "coords = np.array([[1, 2, 3], \n",
    "                  [ 3, 2, 1], \n",
    "                  [ 2, 1, 3], \n",
    "                  [ 3, 1, 2]])\n",
    "\n",
    "print(coords[0])"
   ]
  },
  {
   "cell_type": "code",
   "execution_count": 2,
   "metadata": {},
   "outputs": [
    {
     "name": "stdout",
     "output_type": "stream",
     "text": [
      "Read trajectory with 10 configurations\n",
      "0\n",
      "[10. 10. 10.]\n",
      "[100 100 100]\n"
     ]
    },
    {
     "data": {
      "image/png": "[encoded data removed]",
      "text/plain": [
       "<Figure size 432x288 with 1 Axes>"
      ]
     },
     "metadata": {
      "needs_background": "light"
     },
     "output_type": "display_data"
    }
   ],
   "source": [
    "traj = dlpy.read_trajectory(\"../../polypy/tests/HISTORY\")\n",
    "\n",
    "obj = trajectory.PolyTrajectory(traj)\n",
    "\n",
    "dens = density.Density(obj, \"CA\")\n",
    "\n",
    "x, y = dens.one_dimensional_density()\n",
    "\n",
    "plt.plot(x, y)\n",
    "plt.show()"
   ]
  },
  {
   "cell_type": "code",
   "execution_count": null,
   "metadata": {},
   "outputs": [],
   "source": [
    "rcp = la.inv( np.transpose( mat ) )\n",
    "print(rcp)"
   ]
  },
  {
   "cell_type": "code",
   "execution_count": null,
   "metadata": {},
   "outputs": [],
   "source": [
    "x = np.matmul( rcp, coords_1 )\n",
    "y = np.matmul( rcp, coords_2 )\n",
    "rep_pos = np.array([])\n",
    "frac_3 = np.array([])\n",
    "for i in range(coords[:,0].size):\n",
    "    \n",
    "    z = np.matmul( rcp, coords[i])\n",
    "    rep_pos = np.append(rep_pos, z)\n",
    "    frac_3 = np.append(frac_3, np.mod( z, 1 ))\n",
    "\n",
    "frac = np.mod( x, 1 )\n",
    "frac_2 = np.mod( y, 1 )\n",
    "\n",
    "print(x)\n",
    "print()\n",
    "print(y)\n",
    "print()\n",
    "print(z)\n",
    "print()\n",
    "print(frac)\n",
    "print()\n",
    "print(frac_2)\n",
    "print()\n",
    "print(frac_3)"
   ]
  },
  {
   "cell_type": "code",
   "execution_count": null,
   "metadata": {},
   "outputs": [],
   "source": []
  },
  {
   "cell_type": "code",
   "execution_count": null,
   "metadata": {},
   "outputs": [],
   "source": []
  }
 ],
 "metadata": {
  "kernelspec": {
   "display_name": "Python 3",
   "language": "python",
   "name": "python3"
  },
  "language_info": {
   "codemirror_mode": {
    "name": "ipython",
    "version": 3
   },
   "file_extension": ".py",
   "mimetype": "text/x-python",
   "name": "python",
   "nbconvert_exporter": "python",
   "pygments_lexer": "ipython3",
   "version": "3.6.7"
  }
 },
 "nbformat": 4,
 "nbformat_minor": 2
}
