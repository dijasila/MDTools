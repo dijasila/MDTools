{
 "cells": [
  {
   "cell_type": "code",
   "execution_count": 1,
   "metadata": {},
   "outputs": [
    {
     "name": "stdout",
     "output_type": "stream",
     "text": [
      "[27  0  0]\n"
     ]
    }
   ],
   "source": [
    "import numpy as np\n",
    "from numpy import linalg as la\n",
    "import pandas as pd\n",
    "\n",
    "x = np.array([[[5, 0, 0],\n",
    "              [0, 5, 0],\n",
    "              [0, 0, 5]], \n",
    "              [[27, 0, 0],\n",
    "              [0, 27, 0],\n",
    "              [0, 0,276]]])\n",
    "\n",
    "print(x[1][0,:])"
   ]
  },
  {
   "cell_type": "code",
   "execution_count": 2,
   "metadata": {},
   "outputs": [
    {
     "name": "stdout",
     "output_type": "stream",
     "text": [
      "[[-0.00030364  0.03042288 -0.00993252]\n",
      " [ 0.00091064  0.          0.0297885 ]\n",
      " [ 0.0095057   0.          0.        ]]\n",
      "[[ 0.0095057   0.          0.        ]\n",
      " [-0.00030364  0.03042288 -0.00993252]\n",
      " [ 0.00091064  0.          0.0297885 ]]\n",
      "[0.10093358 0.15349573 0.04752852]\n",
      "[0.04752852 0.10093358 0.15349573]\n"
     ]
    }
   ],
   "source": [
    "z = np.array([5, 5, 5])\n",
    "\n",
    "x = np.array([[0.000, 32.87, 0.000],    \n",
    "              [0.000, 10.96, 33.57],    \n",
    "              [105.2, 0.9000E-09, -3.216]])\n",
    "\n",
    "y = np.array([[105.2, 0.9000E-09, -3.216],\n",
    "              [0.000, 32.87, 0.000],    \n",
    "              [0.000, 10.96, 33.57]])\n",
    "\n",
    "x2 = la.inv(np.transpose(x))\n",
    "y2 = la.inv(np.transpose(y))\n",
    "\n",
    "print(x2)\n",
    "print(y2)\n",
    "\n",
    "z1 = np.matmul(x2, z) \n",
    "z1 = np.mod(z1, 1)\n",
    "z2 = np.matmul(y2, z)\n",
    "z2 = np.mod(z2, 1)\n",
    "\n",
    "print(z1)\n",
    "print(z2)"
   ]
  },
  {
   "cell_type": "code",
   "execution_count": 3,
   "metadata": {},
   "outputs": [
    {
     "name": "stdout",
     "output_type": "stream",
     "text": [
      "[[20, 0, 0], [0, 20, 0], [0, 0, 20]]\n"
     ]
    }
   ],
   "source": [
    "y = [[0, 20, 0], [0, 0, 20]]\n",
    "\n",
    "y.insert(0, [20, 0, 0])\n",
    "\n",
    "print(y)"
   ]
  },
  {
   "cell_type": "code",
   "execution_count": 26,
   "metadata": {},
   "outputs": [
    {
     "name": "stdout",
     "output_type": "stream",
     "text": [
      "     0   1\n",
      "0    1   1\n",
      "1    1   2\n",
      "2    1   3\n",
      "3    2   4\n",
      "4    3   5\n",
      "5    3   6\n",
      "6    4   7\n",
      "7    4   8\n",
      "8    5   9\n",
      "9    5  10\n",
      "10   6  11\n",
      "11   6  12\n",
      "12   7  13\n",
      "13   7  14\n",
      "14   8  15\n",
      "15   8  16\n",
      "16   9  17\n",
      "17   9  18\n",
      "18  10  19\n",
      "19  10  20\n"
     ]
    }
   ],
   "source": [
    "x = np.array([1, 1, 1, 2, 3, 3, 4, 4, 5, 5, 6, 6, 7, 7, 8, 8, 9, 9, 10, 10])\n",
    "y = np.array([1, 2, 3, 4, 5, 6, 7, 8, 9, 10, 11, 12, 13, 14, 15, 16, 17, 18, 19, 20])\n",
    "\n",
    "xy = np.column_stack((x, y))\n",
    "\n",
    "z = pd.DataFrame(xy)\n",
    "\n",
    "print(z)"
   ]
  },
  {
   "cell_type": "code",
   "execution_count": 28,
   "metadata": {},
   "outputs": [
    {
     "name": "stdout",
     "output_type": "stream",
     "text": [
      "    0     1\n",
      "0   1   2.0\n",
      "1   2   4.0\n",
      "2   3   5.5\n",
      "3   4   7.5\n",
      "4   5   9.5\n",
      "5   6  11.5\n",
      "6   7  13.5\n",
      "7   8  15.5\n",
      "8   9  17.5\n",
      "9  10  19.5\n",
      "     0        1\n",
      "0  1.0  0.57735\n",
      "1  1.0      NaN\n",
      "2  1.0  0.50000\n",
      "3  1.0  0.50000\n",
      "4  1.0  0.50000\n",
      "5  1.0  0.50000\n",
      "6  1.0  0.50000\n",
      "7  1.0  0.50000\n",
      "8  1.0  0.50000\n",
      "9  1.0  0.50000\n"
     ]
    }
   ],
   "source": [
    "z1 = z.groupby(0, as_index=False).mean()\n",
    "z2 = z.groupby(0, as_index=False).sem()\n",
    "\n",
    "print(z1)\n",
    "print(z2)"
   ]
  },
  {
   "cell_type": "code",
   "execution_count": 15,
   "metadata": {},
   "outputs": [
    {
     "name": "stdout",
     "output_type": "stream",
     "text": [
      "    0   1\n",
      "0   1  10\n",
      "1   2   9\n",
      "2   3   8\n",
      "3   4   7\n",
      "4   5   6\n",
      "5   5   5\n",
      "6   4   4\n",
      "7   3   3\n",
      "8   2   2\n",
      "9   1   1\n",
      "10  1  10\n",
      "11  2   9\n",
      "12  3   8\n",
      "13  4   7\n",
      "14  5   6\n",
      "15  5   5\n",
      "16  4   4\n",
      "17  3   3\n",
      "18  2   2\n",
      "19  1   1\n"
     ]
    }
   ],
   "source": [
    "print(z)"
   ]
  }
 ],
 "metadata": {
  "kernelspec": {
   "display_name": "Python 3",
   "language": "python",
   "name": "python3"
  },
  "language_info": {
   "codemirror_mode": {
    "name": "ipython",
    "version": 3
   },
   "file_extension": ".py",
   "mimetype": "text/x-python",
   "name": "python",
   "nbconvert_exporter": "python",
   "pygments_lexer": "ipython3",
   "version": "3.7.4"
  }
 },
 "nbformat": 4,
 "nbformat_minor": 2
}
