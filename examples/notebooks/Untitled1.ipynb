{
 "cells": [
  {
   "cell_type": "code",
   "execution_count": 1,
   "metadata": {},
   "outputs": [
    {
     "name": "stdout",
     "output_type": "stream",
     "text": [
      "[27  0  0]\n"
     ]
    }
   ],
   "source": [
    "import numpy as np\n",
    "from numpy import linalg as la\n",
    "import pandas as pd\n",
    "\n",
    "x = np.array([[[5, 0, 0],\n",
    "              [0, 5, 0],\n",
    "              [0, 0, 5]], \n",
    "              [[27, 0, 0],\n",
    "              [0, 27, 0],\n",
    "              [0, 0,276]]])\n",
    "\n",
    "print(x[1][0,:])"
   ]
  },
  {
   "cell_type": "code",
   "execution_count": 2,
   "metadata": {},
   "outputs": [
    {
     "name": "stdout",
     "output_type": "stream",
     "text": [
      "[[-0.00030364  0.03042288 -0.00993252]\n",
      " [ 0.00091064  0.          0.0297885 ]\n",
      " [ 0.0095057   0.          0.        ]]\n",
      "[[ 0.0095057   0.          0.        ]\n",
      " [-0.00030364  0.03042288 -0.00993252]\n",
      " [ 0.00091064  0.          0.0297885 ]]\n",
      "[0.10093358 0.15349573 0.04752852]\n",
      "[0.04752852 0.10093358 0.15349573]\n"
     ]
    }
   ],
   "source": [
    "z = np.array([5, 5, 5])\n",
    "\n",
    "x = np.array([[0.000, 32.87, 0.000],    \n",
    "              [0.000, 10.96, 33.57],    \n",
    "              [105.2, 0.9000E-09, -3.216]])\n",
    "\n",
    "y = np.array([[105.2, 0.9000E-09, -3.216],\n",
    "              [0.000, 32.87, 0.000],    \n",
    "              [0.000, 10.96, 33.57]])\n",
    "\n",
    "x2 = la.inv(np.transpose(x))\n",
    "y2 = la.inv(np.transpose(y))\n",
    "\n",
    "print(x2)\n",
    "print(y2)\n",
    "\n",
    "z1 = np.matmul(x2, z) \n",
    "z1 = np.mod(z1, 1)\n",
    "z2 = np.matmul(y2, z)\n",
    "z2 = np.mod(z2, 1)\n",
    "\n",
    "print(z1)\n",
    "print(z2)"
   ]
  },
  {
   "cell_type": "code",
   "execution_count": 3,
   "metadata": {},
   "outputs": [
    {
     "name": "stdout",
     "output_type": "stream",
     "text": [
      "[[20, 0, 0], [0, 20, 0], [0, 0, 20]]\n"
     ]
    }
   ],
   "source": [
    "y = [[0, 20, 0], [0, 0, 20]]\n",
    "\n",
    "y.insert(0, [20, 0, 0])\n",
    "\n",
    "print(y)"
   ]
  },
  {
   "cell_type": "code",
   "execution_count": 7,
   "metadata": {},
   "outputs": [
    {
     "name": "stdout",
     "output_type": "stream",
     "text": [
      "[1 2 3 4 5]\n",
      "(array([1, 2, 3, 4, 5]), array([2, 2, 2, 2, 2]))\n",
      "[[ 1 10]\n",
      " [ 2  9]\n",
      " [ 3  8]\n",
      " [ 4  7]\n",
      " [ 5  6]\n",
      " [ 5  5]\n",
      " [ 4  4]\n",
      " [ 3  3]\n",
      " [ 2  2]\n",
      " [ 1  1]]\n"
     ]
    }
   ],
   "source": [
    "x = np.array([1, 2, 3, 4, 5, 5, 4, 3, 2, 1])\n",
    "\n",
    "print(x[:5])\n",
    "\n",
    "print(np.unique(x, return_counts=True))\n",
    "\n",
    "y = np.array([10, 9, 8, 7, 6, 5, 4, 3, 2, 1])\n",
    "\n",
    "\n",
    "xy = np.column_stack((x, y))\n",
    "print(xy)"
   ]
  },
  {
   "cell_type": "code",
   "execution_count": 5,
   "metadata": {},
   "outputs": [
    {
     "name": "stdout",
     "output_type": "stream",
     "text": [
      "[[1.  5.5]\n",
      " [2.  5.5]\n",
      " [3.  5.5]\n",
      " [4.  5.5]\n",
      " [5.  5.5]]\n"
     ]
    }
   ],
   "source": [
    "z = pd.DataFrame(xy).groupby(0, as_index=False)[1].mean().values\n",
    "print(z)"
   ]
  },
  {
   "cell_type": "code",
   "execution_count": null,
   "metadata": {},
   "outputs": [],
   "source": []
  }
 ],
 "metadata": {
  "kernelspec": {
   "display_name": "Python 3",
   "language": "python",
   "name": "python3"
  },
  "language_info": {
   "codemirror_mode": {
    "name": "ipython",
    "version": 3
   },
   "file_extension": ".py",
   "mimetype": "text/x-python",
   "name": "python",
   "nbconvert_exporter": "python",
   "pygments_lexer": "ipython3",
   "version": "3.7.0"
  }
 },
 "nbformat": 4,
 "nbformat_minor": 2
}
