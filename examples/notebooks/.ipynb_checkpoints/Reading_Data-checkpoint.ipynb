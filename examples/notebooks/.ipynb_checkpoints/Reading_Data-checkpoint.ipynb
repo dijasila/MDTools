{
 "cells": [
  {
   "cell_type": "markdown",
   "metadata": {},
   "source": [
    "# Polypy\n",
    "\n",
    "## Tutorial 1 - Reading data\n",
    "\n",
    "### DLPOLY\n",
    "\n",
    "The first thing to do with polypy is to read the data, whether it be in the DL_POLY HISTORY or CONFIG format. Polypy will read these formats and return a dictionary\n",
    "\n",
    " ```\n",
    "data = {'label': Unique atom names, \n",
    "        'trajectories': Atomic trajectories, \n",
    "        'lv':Lattice vectors, \n",
    "        'timesteps':Total number of timesteps, \n",
    "        'natoms': Total number of atoms}\n",
    "```"
   ]
  },
  {
   "cell_type": "markdown",
   "metadata": {},
   "source": [
    "### HISTORY Files"
   ]
  },
  {
   "cell_type": "code",
   "execution_count": 1,
   "metadata": {},
   "outputs": [],
   "source": [
    "from polypy import read as rd"
   ]
  },
  {
   "cell_type": "code",
   "execution_count": 2,
   "metadata": {},
   "outputs": [],
   "source": [
    "#history = rd.read_history(\"../example_data/HISTORY\", [\"CA\", \"F\"])\n",
    "history = rd.Archive(\"../example_data/ARCHIVE\", [\"CE\"])"
   ]
  },
  {
   "cell_type": "code",
   "execution_count": 3,
   "metadata": {},
   "outputs": [
    {
     "name": "stdout",
     "output_type": "stream",
     "text": [
      "<polypy.read.Trajectory object at 0x10753f6d0>\n"
     ]
    }
   ],
   "source": [
    "print(history.trajectory)"
   ]
  },
  {
   "cell_type": "code",
   "execution_count": 4,
   "metadata": {},
   "outputs": [
    {
     "name": "stdout",
     "output_type": "stream",
     "text": [
      "[[0.50277778 0.52083333 0.51388889]\n",
      " [0.50277778 0.64583333 0.59722222]\n",
      " [0.51944444 0.52083333 0.59722222]\n",
      " ...\n",
      " [0.46944444 0.39583333 0.43055556]\n",
      " [0.48611111 0.27083334 0.43055556]\n",
      " [0.48611111 0.39583333 0.34722222]]\n"
     ]
    }
   ],
   "source": [
    "print(history.trajectory.fractional_trajectory)"
   ]
  },
  {
   "cell_type": "code",
   "execution_count": null,
   "metadata": {},
   "outputs": [],
   "source": [
    "config_1 = history.trajectory.get_atom(\"CA\")\n",
    "\n",
    "print(config_1.fractional_trajectory)"
   ]
  },
  {
   "cell_type": "markdown",
   "metadata": {},
   "source": [
    "polypy returns an (timesteps * number of atoms) x 3 array containing the atomic coordinates of all selected atoms at all timesteps. It is possible to isolate the CONFIG at a specified timestep using the get_config function."
   ]
  },
  {
   "cell_type": "code",
   "execution_count": null,
   "metadata": {},
   "outputs": [],
   "source": [
    "\n",
    "config = rd.Config(\"../example_data/CONFIG\", [\"F\"])\n",
    "\n",
    "print(config)"
   ]
  },
  {
   "cell_type": "code",
   "execution_count": null,
   "metadata": {},
   "outputs": [],
   "source": [
    "config_1 = config.trajectory.get_atom(\"F\")"
   ]
  },
  {
   "cell_type": "code",
   "execution_count": null,
   "metadata": {},
   "outputs": [],
   "source": [
    "config_1 = config.trajectory.get_config(1)"
   ]
  },
  {
   "cell_type": "code",
   "execution_count": null,
   "metadata": {},
   "outputs": [],
   "source": [
    "trajectory_1 = rd.get_trajectory(history, 1)"
   ]
  },
  {
   "cell_type": "markdown",
   "metadata": {},
   "source": [
    "The total number of timesteps are returned as well as the total number of atoms."
   ]
  },
  {
   "cell_type": "code",
   "execution_count": null,
   "metadata": {},
   "outputs": [],
   "source": [
    "print(history['timesteps'])\n",
    "print(history['natoms'])"
   ]
  },
  {
   "cell_type": "markdown",
   "metadata": {},
   "source": [
    "For things like mean squared displacements and particle densities it is neccesary to split the trajectories for each species up into individual objects e.g. An MSD for just the F atoms. This is done by the get_atom function. "
   ]
  },
  {
   "cell_type": "code",
   "execution_count": null,
   "metadata": {},
   "outputs": [],
   "source": [
    "f_data = rd.get_atom(history, \"F\")"
   ]
  },
  {
   "cell_type": "code",
   "execution_count": null,
   "metadata": {},
   "outputs": [],
   "source": [
    "print(f_data['timesteps'])\n",
    "print(f_data['natoms'])"
   ]
  },
  {
   "cell_type": "markdown",
   "metadata": {},
   "source": [
    "Finally, it is possible to isolate the coordinates of a specific timestep in the HISTORY trajectory. "
   ]
  },
  {
   "cell_type": "code",
   "execution_count": null,
   "metadata": {},
   "outputs": [],
   "source": [
    "first_config = rd.get_config(history, 1)"
   ]
  },
  {
   "cell_type": "code",
   "execution_count": null,
   "metadata": {},
   "outputs": [],
   "source": [
    "print(first_config)"
   ]
  },
  {
   "cell_type": "markdown",
   "metadata": {},
   "source": [
    "### CONFIG Files\n",
    "\n",
    "It is also possible to read CONFIG files and split the data into individual species as with the history file. "
   ]
  },
  {
   "cell_type": "code",
   "execution_count": null,
   "metadata": {},
   "outputs": [],
   "source": [
    "config = rd.read_config(\"../example_data/CONFIG\", [\"CA\", \"F\"])\n",
    "\n",
    "print(config['timesteps'])\n",
    "print(config['natoms'])"
   ]
  },
  {
   "cell_type": "code",
   "execution_count": null,
   "metadata": {},
   "outputs": [],
   "source": [
    "f_data = rd.get_atom(config, \"F\")\n",
    "print(f_data['timesteps'])\n",
    "print(f_data['natoms'])"
   ]
  },
  {
   "cell_type": "markdown",
   "metadata": {},
   "source": [
    "### DLMONTE"
   ]
  },
  {
   "cell_type": "code",
   "execution_count": null,
   "metadata": {},
   "outputs": [],
   "source": [
    "archive = rd.read_archive(\"../example_data/ARCHIVE\", [\"CE\", \"O\"])\n",
    "\n",
    "print(archive['timesteps'])\n",
    "print(archive['natoms'])"
   ]
  },
  {
   "cell_type": "code",
   "execution_count": null,
   "metadata": {},
   "outputs": [],
   "source": []
  }
 ],
 "metadata": {
  "kernelspec": {
   "display_name": "Python 3",
   "language": "python",
   "name": "python3"
  },
  "language_info": {
   "codemirror_mode": {
    "name": "ipython",
    "version": 3
   },
   "file_extension": ".py",
   "mimetype": "text/x-python",
   "name": "python",
   "nbconvert_exporter": "python",
   "pygments_lexer": "ipython3",
   "version": "3.7.4"
  }
 },
 "nbformat": 4,
 "nbformat_minor": 2
}
