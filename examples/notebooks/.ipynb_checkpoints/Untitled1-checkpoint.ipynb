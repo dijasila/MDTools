{
 "cells": [
  {
   "cell_type": "code",
   "execution_count": 1,
   "metadata": {},
   "outputs": [
    {
     "name": "stdout",
     "output_type": "stream",
     "text": [
      "[27  0  0]\n"
     ]
    }
   ],
   "source": [
    "import numpy as np\n",
    "from numpy import linalg as la\n",
    "\n",
    "\n",
    "x = np.array([[[5, 0, 0],\n",
    "              [0, 5, 0],\n",
    "              [0, 0, 5]], \n",
    "              [[27, 0, 0],\n",
    "              [0, 27, 0],\n",
    "              [0, 0,276]]])\n",
    "\n",
    "print(x[1][0,:])"
   ]
  },
  {
   "cell_type": "code",
   "execution_count": 2,
   "metadata": {},
   "outputs": [
    {
     "name": "stdout",
     "output_type": "stream",
     "text": [
      "[[0.05 0.   0.  ]\n",
      " [0.   0.05 0.  ]\n",
      " [0.   0.   0.05]]\n",
      "[[0.   0.05 0.  ]\n",
      " [0.   0.   0.05]\n",
      " [0.05 0.   0.  ]]\n"
     ]
    }
   ],
   "source": [
    "\n",
    "x = np.array([[20, 0, 0],\n",
    "              [0, 20, 0],\n",
    "              [0, 0, 20]])\n",
    "\n",
    "y = np.array([[0, 20, 0],\n",
    "              [0, 0, 20],\n",
    "              [20, 0, 0]])\n",
    "\n",
    "print(la.inv(np.transpose(x)))\n",
    "print(la.inv(np.transpose(y)))"
   ]
  },
  {
   "cell_type": "code",
   "execution_count": null,
   "metadata": {},
   "outputs": [],
   "source": []
  }
 ],
 "metadata": {
  "kernelspec": {
   "display_name": "Python 3",
   "language": "python",
   "name": "python3"
  },
  "language_info": {
   "codemirror_mode": {
    "name": "ipython",
    "version": 3
   },
   "file_extension": ".py",
   "mimetype": "text/x-python",
   "name": "python",
   "nbconvert_exporter": "python",
   "pygments_lexer": "ipython3",
   "version": "3.7.0"
  }
 },
 "nbformat": 4,
 "nbformat_minor": 2
}
