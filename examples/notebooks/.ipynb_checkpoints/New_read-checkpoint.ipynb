{
 "cells": [
  {
   "cell_type": "code",
   "execution_count": 1,
   "metadata": {},
   "outputs": [],
   "source": [
    "from polypy import read_dl_poly as dlpy\n",
    "from polypy import read_dl_monte as dlmt\n",
    "from polypy import read_utils as rd_ut\n",
    "from polypy import read as rd\n",
    "import numpy as np\n",
    "import os\n",
    "from polypy import trajectory"
   ]
  },
  {
   "cell_type": "code",
   "execution_count": 2,
   "metadata": {
    "scrolled": true
   },
   "outputs": [
    {
     "name": "stdout",
     "output_type": "stream",
     "text": [
      "Read trajectory with 100 configurations\n",
      "[[0.00609385 0.         0.        ]\n",
      " [0.         0.04570384 0.        ]\n",
      " [0.         0.         0.03046923]]\n"
     ]
    }
   ],
   "source": [
    "traj_monte = dlmt.read_trajectory(\"../example_data/ARCHIVE\")\n",
    "\n",
    "lv = traj_monte[0]['lvs']\n",
    "traj_obj = trajectory.PolyTrajectory(traj_monte)"
   ]
  },
  {
   "cell_type": "code",
   "execution_count": 3,
   "metadata": {},
   "outputs": [
    {
     "name": "stdout",
     "output_type": "stream",
     "text": [
      "DLMONTE\n"
     ]
    }
   ],
   "source": [
    "print(traj_obj.get_file_type())"
   ]
  },
  {
   "cell_type": "code",
   "execution_count": 4,
   "metadata": {},
   "outputs": [
    {
     "name": "stdout",
     "output_type": "stream",
     "text": [
      "100\n"
     ]
    }
   ],
   "source": [
    "print(traj_obj.get_nconfigs())"
   ]
  },
  {
   "cell_type": "code",
   "execution_count": 5,
   "metadata": {},
   "outputs": [
    {
     "name": "stdout",
     "output_type": "stream",
     "text": [
      "No title in a DLMONTE file\n",
      "None\n"
     ]
    }
   ],
   "source": [
    "print(traj_obj.get_title())"
   ]
  },
  {
   "cell_type": "code",
   "execution_count": 6,
   "metadata": {},
   "outputs": [
    {
     "name": "stdout",
     "output_type": "stream",
     "text": [
      "No style in a DLMONTE file\n",
      "None\n"
     ]
    }
   ],
   "source": [
    "print(traj_obj.get_style())"
   ]
  },
  {
   "cell_type": "code",
   "execution_count": 7,
   "metadata": {},
   "outputs": [
    {
     "name": "stdout",
     "output_type": "stream",
     "text": [
      "Atom number does not change\n",
      "8640.0\n"
     ]
    }
   ],
   "source": [
    "print(traj_obj.get_total_natoms())"
   ]
  },
  {
   "cell_type": "code",
   "execution_count": 11,
   "metadata": {
    "scrolled": false
   },
   "outputs": [
    {
     "name": "stdout",
     "output_type": "stream",
     "text": [
      "[[164.1    0.     0.  ]\n",
      " [  0.    21.88   0.  ]\n",
      " [  0.     0.    32.82]]\n",
      "[[164.1    0.     0.  ]\n",
      " [  0.    21.88   0.  ]\n",
      " [  0.     0.    32.82]]\n",
      "100\n"
     ]
    }
   ],
   "source": [
    "lvs = traj_obj.lattice_vectors()\n",
    "\n",
    "print(lvs[0])\n",
    "print(lv)\n",
    "\n",
    "print(len(lvs))\n"
   ]
  },
  {
   "cell_type": "code",
   "execution_count": 9,
   "metadata": {},
   "outputs": [
    {
     "name": "stdout",
     "output_type": "stream",
     "text": [
      "[[-81.5941667 -10.4841667 -15.9541667   0.       ]\n",
      " [-81.5941667  -7.7491667 -13.2191667   0.       ]\n",
      " [-78.8591667 -10.4841667 -13.2191667   0.       ]\n",
      " ...\n",
      " [ 77.0358155   8.6608313  14.1308301   0.       ]\n",
      " [ 79.7708149   5.925832   14.1308301   0.       ]\n",
      " [ 79.7708149   8.6608313  11.3958307   0.       ]]\n"
     ]
    }
   ],
   "source": [
    "print(traj_obj.atom_coordinates(\"CE\"))"
   ]
  },
  {
   "cell_type": "code",
   "execution_count": 10,
   "metadata": {},
   "outputs": [
    {
     "name": "stdout",
     "output_type": "stream",
     "text": [
      "2880\n"
     ]
    }
   ],
   "source": [
    "print(traj_obj.get_natoms(\"CE\"))\n"
   ]
  },
  {
   "cell_type": "code",
   "execution_count": 11,
   "metadata": {
    "scrolled": false
   },
   "outputs": [],
   "source": [
    "#print(len(traj_monte))\n",
    "#print(traj_monte[0]['title'])\n",
    "#print(traj_monte[0]['style'])\n",
    "#print(traj_monte[0]['lvs'])\n",
    "#print(traj_monte[0]['nummols'])\n",
    "#print(traj_monte[0]['moltypes'])\n",
    "#print(traj_monte[0]['maxmols'])\n",
    "\n",
    "#for i in range(traj_monte[0]['nummols']):\n",
    "#    print(traj_monte[0]['mols'][i]['name'])\n",
    " #   print(traj_monte[0]['mols'][i]['numatoms'])\n",
    "  #  print(traj_monte[0]['mols'][i]['maxatoms'])\n",
    "\n",
    "   # for j in range(0, traj_monte[0]['mols'][i]['maxatoms']):\n",
    "    #    print(traj_monte[0]['mols'][i]['atoms'][j])"
   ]
  },
  {
   "cell_type": "code",
   "execution_count": 12,
   "metadata": {},
   "outputs": [
    {
     "name": "stdout",
     "output_type": "stream",
     "text": [
      "Read trajectory with 500 configurations\n"
     ]
    }
   ],
   "source": [
    "traj = dlpy.read_trajectory(\"../example_data/HISTORY\")\n",
    "\n",
    "traj_obj = trajectory.PolyTrajectory(traj)\n",
    "\n",
    "lvs = traj_obj.lattice_vectors()"
   ]
  },
  {
   "cell_type": "code",
   "execution_count": 13,
   "metadata": {},
   "outputs": [
    {
     "name": "stdout",
     "output_type": "stream",
     "text": [
      "[27.32  0.    0.   ...  0.    0.   28.4 ]\n",
      "DLPOLY\n"
     ]
    }
   ],
   "source": [
    "print(lvs)\n",
    "print(traj_obj.get_file_type())"
   ]
  },
  {
   "cell_type": "code",
   "execution_count": 14,
   "metadata": {},
   "outputs": [
    {
     "name": "stdout",
     "output_type": "stream",
     "text": [
      "0.1\n"
     ]
    }
   ],
   "source": [
    "print(traj_obj.timestep())"
   ]
  },
  {
   "cell_type": "code",
   "execution_count": 15,
   "metadata": {},
   "outputs": [],
   "source": [
    "nconfigs = traj_obj.get_nconfigs()"
   ]
  },
  {
   "cell_type": "code",
   "execution_count": 16,
   "metadata": {},
   "outputs": [
    {
     "name": "stdout",
     "output_type": "stream",
     "text": [
      "surfa_______________:       0.0000000000     0.0000000000    27.3200000000      \n",
      "[   0    3 1500]\n"
     ]
    }
   ],
   "source": [
    "print(traj_obj.get_title())\n",
    "print(traj_obj.get_style())"
   ]
  },
  {
   "cell_type": "code",
   "execution_count": 17,
   "metadata": {
    "scrolled": false
   },
   "outputs": [
    {
     "name": "stdout",
     "output_type": "stream",
     "text": [
      "1500\n"
     ]
    }
   ],
   "source": [
    "natoms = traj_obj.get_total_natoms()\n",
    "print(natoms)"
   ]
  },
  {
   "cell_type": "code",
   "execution_count": 18,
   "metadata": {},
   "outputs": [
    {
     "name": "stdout",
     "output_type": "stream",
     "text": [
      "[[ -3.639    7.296   -3.6394]\n",
      " [ -6.3635   7.2868  -3.6393]\n",
      " [ -3.6363   4.5596  -6.3786]\n",
      " ...\n",
      " [ 13.31     7.2123 -11.79  ]\n",
      " [ 10.518  -11.702   12.843 ]\n",
      " [ 10.381   13.813    4.9657]]\n"
     ]
    }
   ],
   "source": [
    "f_coords = traj_obj.atom_coordinates(\"F\")\n",
    "#print(f_coords.shape)\n",
    "print(f_coords)"
   ]
  },
  {
   "cell_type": "code",
   "execution_count": 19,
   "metadata": {},
   "outputs": [
    {
     "name": "stdout",
     "output_type": "stream",
     "text": [
      "1000\n"
     ]
    }
   ],
   "source": [
    "f_atoms = traj_obj.get_natoms(\"F\")\n",
    "print(f_atoms)"
   ]
  },
  {
   "cell_type": "code",
   "execution_count": 20,
   "metadata": {},
   "outputs": [
    {
     "name": "stdout",
     "output_type": "stream",
     "text": [
      "3000.0\n"
     ]
    }
   ],
   "source": [
    "print(f_coords.size / nconfigs)"
   ]
  },
  {
   "cell_type": "code",
   "execution_count": 21,
   "metadata": {},
   "outputs": [
    {
     "ename": "KeyError",
     "evalue": "'style'",
     "output_type": "error",
     "traceback": [
      "\u001b[1;31m---------------------------------------------------------------------------\u001b[0m",
      "\u001b[1;31mKeyError\u001b[0m                                  Traceback (most recent call last)",
      "\u001b[1;32m<ipython-input-21-1965c09242d2>\u001b[0m in \u001b[0;36m<module>\u001b[1;34m()\u001b[0m\n\u001b[1;32m----> 1\u001b[1;33m \u001b[0mprint\u001b[0m\u001b[1;33m(\u001b[0m\u001b[0mtraj_monte\u001b[0m\u001b[1;33m[\u001b[0m\u001b[1;34m'style'\u001b[0m\u001b[1;33m]\u001b[0m\u001b[1;33m)\u001b[0m\u001b[1;33m\u001b[0m\u001b[1;33m\u001b[0m\u001b[0m\n\u001b[0m",
      "\u001b[1;31mKeyError\u001b[0m: 'style'"
     ]
    }
   ],
   "source": [
    "print(traj_monte['style'])"
   ]
  },
  {
   "cell_type": "code",
   "execution_count": null,
   "metadata": {},
   "outputs": [],
   "source": []
  }
 ],
 "metadata": {
  "kernelspec": {
   "display_name": "Python 3",
   "language": "python",
   "name": "python3"
  },
  "language_info": {
   "codemirror_mode": {
    "name": "ipython",
    "version": 3
   },
   "file_extension": ".py",
   "mimetype": "text/x-python",
   "name": "python",
   "nbconvert_exporter": "python",
   "pygments_lexer": "ipython3",
   "version": "3.6.7"
  }
 },
 "nbformat": 4,
 "nbformat_minor": 2
}
