{
 "cells": [
  {
   "cell_type": "code",
   "execution_count": 1,
   "metadata": {},
   "outputs": [],
   "source": [
    "from polypy import read_dl_poly as dlpy\n",
    "from polypy import read_dl_monte as dlmt\n",
    "from polypy import read_utils as rd_ut\n",
    "from polypy import read as rd\n",
    "import numpy as np\n",
    "import os\n",
    "from polypy import trajectory"
   ]
  },
  {
   "cell_type": "code",
   "execution_count": 3,
   "metadata": {},
   "outputs": [
    {
     "name": "stdout",
     "output_type": "stream",
     "text": [
      "{'title': 'Random title line', 'style': array([2, 3]), 'lvs': array([[1.  , 2.2 , 0.  ],\n",
      "       [0.01, 2.  , 0.01],\n",
      "       [0.  , 0.  , 1.  ]]), 'atoms': {0: {'label': 'A', 'id': 1, 'coor': array([0.1, 0.2, 0.3]), 'vel': array([0.01, 0.02, 0.03]), 'force': array([0.001, 0.002, 0.003])}, 1: {'label': 'B', 'id': 2, 'coor': array([0.5, 0.6, 0.7]), 'vel': array([0.05, 0.06, 0.07]), 'force': array([0.005, 0.006, 0.007])}, 2: {'label': 'C', 'id': 3, 'coor': array([1. , 1.5, 2. ]), 'vel': array([1.01, 1.51, 2.01]), 'force': array([1.001, 1.501, 2.001])}, 'numatoms': 3}}\n"
     ]
    }
   ],
   "source": [
    "test_traj = dlpy.open_config(\"../../polypy/tests/dlppy_test_data/sample_configs/CONFIG3\")\n",
    "print(test_traj)"
   ]
  },
  {
   "cell_type": "code",
   "execution_count": null,
   "metadata": {},
   "outputs": [],
   "source": []
  },
  {
   "cell_type": "code",
   "execution_count": null,
   "metadata": {},
   "outputs": [],
   "source": []
  },
  {
   "cell_type": "code",
   "execution_count": null,
   "metadata": {},
   "outputs": [],
   "source": []
  },
  {
   "cell_type": "code",
   "execution_count": null,
   "metadata": {},
   "outputs": [],
   "source": []
  },
  {
   "cell_type": "code",
   "execution_count": null,
   "metadata": {
    "scrolled": true
   },
   "outputs": [],
   "source": [
    "traj_monte = dlmt.read_trajectory(\"../example_data/ARCHIVE\")\n",
    "\n",
    "lv = traj_monte[0]['lvs']\n",
    "traj_obj = trajectory.PolyTrajectory(traj_monte)"
   ]
  },
  {
   "cell_type": "code",
   "execution_count": null,
   "metadata": {},
   "outputs": [],
   "source": [
    "print(traj_obj.get_file_type())"
   ]
  },
  {
   "cell_type": "code",
   "execution_count": null,
   "metadata": {},
   "outputs": [],
   "source": [
    "print(traj_obj.get_nconfigs())"
   ]
  },
  {
   "cell_type": "code",
   "execution_count": null,
   "metadata": {},
   "outputs": [],
   "source": [
    "print(traj_obj.get_title())"
   ]
  },
  {
   "cell_type": "code",
   "execution_count": null,
   "metadata": {},
   "outputs": [],
   "source": [
    "print(traj_obj.get_style())"
   ]
  },
  {
   "cell_type": "code",
   "execution_count": null,
   "metadata": {},
   "outputs": [],
   "source": [
    "print(traj_obj.get_total_natoms())"
   ]
  },
  {
   "cell_type": "code",
   "execution_count": null,
   "metadata": {
    "scrolled": false
   },
   "outputs": [],
   "source": [
    "lvs = traj_obj.lattice_vectors()\n",
    "\n",
    "print(lvs[0])\n",
    "print(lv)\n",
    "\n",
    "print(len(lvs))\n"
   ]
  },
  {
   "cell_type": "code",
   "execution_count": null,
   "metadata": {},
   "outputs": [],
   "source": [
    "print(traj_obj.atom_coordinates(\"CE\"))"
   ]
  },
  {
   "cell_type": "code",
   "execution_count": null,
   "metadata": {},
   "outputs": [],
   "source": [
    "print(traj_obj.get_natoms(\"CE\"))\n"
   ]
  },
  {
   "cell_type": "code",
   "execution_count": null,
   "metadata": {
    "scrolled": false
   },
   "outputs": [],
   "source": [
    "#print(len(traj_monte))\n",
    "#print(traj_monte[0]['title'])\n",
    "#print(traj_monte[0]['style'])\n",
    "#print(traj_monte[0]['lvs'])\n",
    "#print(traj_monte[0]['nummols'])\n",
    "#print(traj_monte[0]['moltypes'])\n",
    "#print(traj_monte[0]['maxmols'])\n",
    "\n",
    "#for i in range(traj_monte[0]['nummols']):\n",
    "#    print(traj_monte[0]['mols'][i]['name'])\n",
    " #   print(traj_monte[0]['mols'][i]['numatoms'])\n",
    "  #  print(traj_monte[0]['mols'][i]['maxatoms'])\n",
    "\n",
    "   # for j in range(0, traj_monte[0]['mols'][i]['maxatoms']):\n",
    "    #    print(traj_monte[0]['mols'][i]['atoms'][j])"
   ]
  },
  {
   "cell_type": "code",
   "execution_count": null,
   "metadata": {},
   "outputs": [],
   "source": [
    "traj = dlpy.read_trajectory(\"../example_data/HISTORY\")\n",
    "\n",
    "traj_obj = trajectory.PolyTrajectory(traj)\n",
    "\n",
    "lvs = traj_obj.lattice_vectors()"
   ]
  },
  {
   "cell_type": "code",
   "execution_count": null,
   "metadata": {},
   "outputs": [],
   "source": [
    "print(lvs)\n",
    "print(traj_obj.get_file_type())"
   ]
  },
  {
   "cell_type": "code",
   "execution_count": null,
   "metadata": {},
   "outputs": [],
   "source": [
    "print(traj_obj.timestep())"
   ]
  },
  {
   "cell_type": "code",
   "execution_count": null,
   "metadata": {},
   "outputs": [],
   "source": [
    "nconfigs = traj_obj.get_nconfigs()"
   ]
  },
  {
   "cell_type": "code",
   "execution_count": null,
   "metadata": {},
   "outputs": [],
   "source": [
    "print(traj_obj.get_title())\n",
    "print(traj_obj.get_style())"
   ]
  },
  {
   "cell_type": "code",
   "execution_count": null,
   "metadata": {
    "scrolled": false
   },
   "outputs": [],
   "source": [
    "natoms = traj_obj.get_total_natoms()\n",
    "print(natoms)"
   ]
  },
  {
   "cell_type": "code",
   "execution_count": null,
   "metadata": {},
   "outputs": [],
   "source": [
    "f_coords = traj_obj.atom_coordinates(\"F\")\n",
    "#print(f_coords.shape)\n",
    "print(f_coords)"
   ]
  },
  {
   "cell_type": "code",
   "execution_count": null,
   "metadata": {},
   "outputs": [],
   "source": [
    "f_atoms = traj_obj.get_natoms(\"F\")\n",
    "print(f_atoms)"
   ]
  },
  {
   "cell_type": "code",
   "execution_count": null,
   "metadata": {},
   "outputs": [],
   "source": [
    "print(f_coords.size / nconfigs)"
   ]
  },
  {
   "cell_type": "code",
   "execution_count": null,
   "metadata": {},
   "outputs": [],
   "source": [
    "print(traj_monte['style'])"
   ]
  },
  {
   "cell_type": "code",
   "execution_count": null,
   "metadata": {},
   "outputs": [],
   "source": []
  }
 ],
 "metadata": {
  "kernelspec": {
   "display_name": "Python 3",
   "language": "python",
   "name": "python3"
  },
  "language_info": {
   "codemirror_mode": {
    "name": "ipython",
    "version": 3
   },
   "file_extension": ".py",
   "mimetype": "text/x-python",
   "name": "python",
   "nbconvert_exporter": "python",
   "pygments_lexer": "ipython3",
   "version": "3.6.7"
  }
 },
 "nbformat": 4,
 "nbformat_minor": 2
}
