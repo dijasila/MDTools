{
 "cells": [
  {
   "cell_type": "markdown",
   "metadata": {},
   "source": [
    "# Polypy\n",
    "\n",
    "## Tutorial 1 - Reading data\n",
    "\n",
    "### DLPOLY\n",
    "\n",
    "The first thing to do with polypy is to read the data, whether it be in the DL_POLY HISTORY or CONFIG format. Polypy will read these formats and return a dictionary\n",
    "\n",
    " ```\n",
    "data = {'label': Unique atom names, \n",
    "        'trajectories': Atomic trajectories, \n",
    "        'lv':Lattice vectors, \n",
    "        'timesteps':Total number of timesteps, \n",
    "        'natoms': Total number of atoms}\n",
    "```"
   ]
  },
  {
   "cell_type": "markdown",
   "metadata": {},
   "source": [
    "### HISTORY Files"
   ]
  },
  {
   "cell_type": "code",
   "execution_count": 1,
   "metadata": {},
   "outputs": [],
   "source": [
    "from polypy import read as rd\n",
    "import numpy as np"
   ]
  },
  {
   "cell_type": "code",
   "execution_count": 2,
   "metadata": {},
   "outputs": [],
   "source": [
    "history = rd.read_history(\"../example_data/HISTORY\", [\"CA\", \"F\"])"
   ]
  },
  {
   "cell_type": "code",
   "execution_count": 3,
   "metadata": {},
   "outputs": [
    {
     "name": "stdout",
     "output_type": "stream",
     "text": [
      "['CA' 'CA' 'CA' ... 'F' 'F' 'F']\n"
     ]
    }
   ],
   "source": [
    "print(history['label'])"
   ]
  },
  {
   "cell_type": "markdown",
   "metadata": {},
   "source": [
    "polypy returns an (timesteps * number of atoms) x 3 array containing the atomic coordinates of all selected atoms at all timesteps. It is possible to isolate the CONFIG at a specified timestep using the get_config function."
   ]
  },
  {
   "cell_type": "code",
   "execution_count": 4,
   "metadata": {},
   "outputs": [
    {
     "name": "stdout",
     "output_type": "stream",
     "text": [
      "2250000\n",
      "(750000, 3)\n",
      "[[-13.193 -13.207 -13.211]\n",
      " [-13.207 -10.472 -10.476]\n",
      " [-10.472 -13.207 -10.466]\n",
      " ...\n",
      " [ 10.014  12.748  12.745]\n",
      " [ 12.749  10.025  10.014]\n",
      " [ 10.009  12.756  10.007]]\n"
     ]
    }
   ],
   "source": [
    "print(history['trajectories'].size)\n",
    "print(history['trajectories'].shape)\n",
    "\n",
    "config_1 = rd.get_config(history, timestep=0)\n",
    "\n",
    "print(config_1)"
   ]
  },
  {
   "cell_type": "markdown",
   "metadata": {},
   "source": [
    "The total number of timesteps are returned as well as the total number of atoms."
   ]
  },
  {
   "cell_type": "code",
   "execution_count": 5,
   "metadata": {},
   "outputs": [
    {
     "name": "stdout",
     "output_type": "stream",
     "text": [
      "500\n",
      "1500\n"
     ]
    }
   ],
   "source": [
    "print(history['timesteps'])\n",
    "print(history['natoms'])"
   ]
  },
  {
   "cell_type": "markdown",
   "metadata": {},
   "source": [
    "For things like mean squared displacements and particle densities it is neccesary to split the trajectories for each species up into individual objects e.g. An MSD for just the F atoms. This is done by the get_atom function. "
   ]
  },
  {
   "cell_type": "code",
   "execution_count": 6,
   "metadata": {},
   "outputs": [],
   "source": [
    "f_data = rd.get_atom(history, \"F\")"
   ]
  },
  {
   "cell_type": "code",
   "execution_count": 7,
   "metadata": {},
   "outputs": [
    {
     "name": "stdout",
     "output_type": "stream",
     "text": [
      "500\n",
      "1000\n"
     ]
    }
   ],
   "source": [
    "print(f_data['timesteps'])\n",
    "print(f_data['natoms'])"
   ]
  },
  {
   "cell_type": "markdown",
   "metadata": {},
   "source": [
    "Finally, it is possible to isolate the coordinates of a specific timestep in the HISTORY trajectory. "
   ]
  },
  {
   "cell_type": "code",
   "execution_count": 8,
   "metadata": {},
   "outputs": [],
   "source": [
    "first_config = rd.get_config(history, 1)"
   ]
  },
  {
   "cell_type": "code",
   "execution_count": 9,
   "metadata": {},
   "outputs": [
    {
     "name": "stdout",
     "output_type": "stream",
     "text": [
      "[[-12.797  -13.402  -13.42  ]\n",
      " [-13.101  -10.152  -10.462 ]\n",
      " [-10.331  -13.536  -10.789 ]\n",
      " ...\n",
      " [ 10.792   12.305   12.34  ]\n",
      " [ 12.476   10.36    10.914 ]\n",
      " [  9.9435  13.491   10.097 ]]\n"
     ]
    }
   ],
   "source": [
    "print(first_config)"
   ]
  },
  {
   "cell_type": "markdown",
   "metadata": {},
   "source": [
    "### CONFIG Files\n",
    "\n",
    "It is also possible to read CONFIG files and split the data into individual species as with the history file. "
   ]
  },
  {
   "cell_type": "code",
   "execution_count": 10,
   "metadata": {},
   "outputs": [
    {
     "name": "stdout",
     "output_type": "stream",
     "text": [
      "1\n",
      "1500\n"
     ]
    }
   ],
   "source": [
    "config = rd.read_config(\"../example_data/CONFIG\", [\"CA\", \"F\"])\n",
    "\n",
    "print(config['timesteps'])\n",
    "print(config['natoms'])"
   ]
  },
  {
   "cell_type": "code",
   "execution_count": 11,
   "metadata": {},
   "outputs": [
    {
     "name": "stdout",
     "output_type": "stream",
     "text": [
      "1\n",
      "1000\n"
     ]
    }
   ],
   "source": [
    "f_data = rd.get_atom(config, \"F\")\n",
    "print(f_data['timesteps'])\n",
    "print(f_data['natoms'])"
   ]
  },
  {
   "cell_type": "markdown",
   "metadata": {},
   "source": [
    "### DLMONTE"
   ]
  },
  {
   "cell_type": "code",
   "execution_count": 12,
   "metadata": {},
   "outputs": [
    {
     "name": "stdout",
     "output_type": "stream",
     "text": [
      "100\n",
      "8640\n"
     ]
    }
   ],
   "source": [
    "archive = rd.read_archive(\"../example_data/ARCHIVE\", [\"CE\", \"O\"])\n",
    "\n",
    "print(archive['timesteps'])\n",
    "print(archive['natoms'])"
   ]
  },
  {
   "cell_type": "code",
   "execution_count": null,
   "metadata": {},
   "outputs": [],
   "source": []
  }
 ],
 "metadata": {
  "kernelspec": {
   "display_name": "Python 3",
   "language": "python",
   "name": "python3"
  },
  "language_info": {
   "codemirror_mode": {
    "name": "ipython",
    "version": 3
   },
   "file_extension": ".py",
   "mimetype": "text/x-python",
   "name": "python",
   "nbconvert_exporter": "python",
   "pygments_lexer": "ipython3",
   "version": "3.7.0"
  }
 },
 "nbformat": 4,
 "nbformat_minor": 2
}
