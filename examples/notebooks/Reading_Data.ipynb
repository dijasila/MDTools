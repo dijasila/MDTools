{
 "cells": [
  {
   "cell_type": "markdown",
   "metadata": {},
   "source": [
    "# Polypy\n",
    "\n",
    "## Tutorial 1 - Reading data\n",
    "\n",
    "### DLPOLY\n",
    "\n",
    "The first thing to do with polypy is to read the data, whether it be in the DL_POLY HISTORY or CONFIG format. Polypy will read these formats and return a dictionary\n",
    "\n",
    " ```\n",
    "data = {'label': Unique atom names, \n",
    "        'trajectories': Atomic trajectories, \n",
    "        'lv':Lattice vectors, \n",
    "        'timesteps':Total number of timesteps, \n",
    "        'natoms': Total number of atoms}\n",
    "```"
   ]
  },
  {
   "cell_type": "markdown",
   "metadata": {},
   "source": [
    "### HISTORY Files"
   ]
  },
  {
   "cell_type": "code",
   "execution_count": 1,
   "metadata": {},
   "outputs": [],
   "source": [
    "from polypy import read as rd\n",
    "import numpy as np"
   ]
  },
  {
   "cell_type": "code",
   "execution_count": null,
   "metadata": {},
   "outputs": [],
   "source": []
  },
  {
   "cell_type": "code",
   "execution_count": 2,
   "metadata": {},
   "outputs": [],
   "source": [
    "#history = rd.read_history(\"../example_data/HISTORY\", [\"CA\", \"F\"])\n",
    "history = rd.read_history(\"../../../../OLD/data/HISTORY_F\", [\"BR\"])"
   ]
  },
  {
   "cell_type": "code",
   "execution_count": 3,
   "metadata": {},
   "outputs": [
    {
     "name": "stdout",
     "output_type": "stream",
     "text": [
      "['BR' 'BR' 'BR' ... 'BR' 'BR' 'BR']\n"
     ]
    }
   ],
   "source": [
    "print(history['label'])"
   ]
  },
  {
   "cell_type": "markdown",
   "metadata": {},
   "source": [
    "polypy returns an (timesteps * number of atoms) x 3 array containing the atomic coordinates of all selected atoms at all timesteps. It is possible to isolate the CONFIG at a specified timestep using the get_config function."
   ]
  },
  {
   "cell_type": "code",
   "execution_count": 4,
   "metadata": {},
   "outputs": [
    {
     "name": "stdout",
     "output_type": "stream",
     "text": [
      "8742\n",
      "(2914, 3)\n",
      "[[-11.829  -6.375 -11.846]\n",
      " [ 10.009  12.756  10.007]]\n"
     ]
    }
   ],
   "source": [
    "print(history['trajectories'].size)\n",
    "print(history['trajectories'].shape)\n",
    "\n",
    "config_1 = rd.get_config(history, timestep=0)\n",
    "\n",
    "print(config_1)"
   ]
  },
  {
   "cell_type": "code",
   "execution_count": 5,
   "metadata": {},
   "outputs": [
    {
     "name": "stdout",
     "output_type": "stream",
     "text": [
      "[[[-11.829   -6.375  -11.846 ]\n",
      "  [ 10.009   12.756   10.007 ]]\n",
      "\n",
      " [[-11.789   -6.4175 -12.268 ]\n",
      "  [ 10.48    13.257    9.5174]]\n",
      "\n",
      " [[-11.941   -6.3659 -11.709 ]\n",
      "  [  9.8873  13.251   10.617 ]]\n",
      "\n",
      " ...\n",
      "\n",
      " [[ -6.4028  -4.1378  10.362 ]\n",
      "  [ -7.2466  13.104   -8.047 ]]\n",
      "\n",
      " [[ -6.5269  -3.7841   9.8862]\n",
      "  [ -6.7908  13.916   -6.3647]]\n",
      "\n",
      " [[ -6.8095  -3.1214  10.059 ]\n",
      "  [ -7.1101  13.738   -6.5052]]]\n",
      "[[10.009  12.756  10.007 ]\n",
      " [10.48   13.257   9.5174]\n",
      " [ 9.8873 13.251  10.617 ]\n",
      " ...\n",
      " [-7.2466 13.104  -8.047 ]\n",
      " [-6.7908 13.916  -6.3647]\n",
      " [-7.1101 13.738  -6.5052]]\n"
     ]
    }
   ],
   "source": [
    "trajectory_1 = rd.get_trajectory(history, 1)"
   ]
  },
  {
   "cell_type": "markdown",
   "metadata": {},
   "source": [
    "The total number of timesteps are returned as well as the total number of atoms."
   ]
  },
  {
   "cell_type": "code",
   "execution_count": 6,
   "metadata": {},
   "outputs": [
    {
     "name": "stdout",
     "output_type": "stream",
     "text": [
      "1457\n",
      "2\n"
     ]
    }
   ],
   "source": [
    "print(history['timesteps'])\n",
    "print(history['natoms'])"
   ]
  },
  {
   "cell_type": "markdown",
   "metadata": {},
   "source": [
    "For things like mean squared displacements and particle densities it is neccesary to split the trajectories for each species up into individual objects e.g. An MSD for just the F atoms. This is done by the get_atom function. "
   ]
  },
  {
   "cell_type": "code",
   "execution_count": 7,
   "metadata": {},
   "outputs": [],
   "source": [
    "f_data = rd.get_atom(history, \"F\")"
   ]
  },
  {
   "cell_type": "code",
   "execution_count": 8,
   "metadata": {},
   "outputs": [
    {
     "name": "stdout",
     "output_type": "stream",
     "text": [
      "1457\n",
      "2\n"
     ]
    }
   ],
   "source": [
    "print(f_data['timesteps'])\n",
    "print(f_data['natoms'])"
   ]
  },
  {
   "cell_type": "markdown",
   "metadata": {},
   "source": [
    "Finally, it is possible to isolate the coordinates of a specific timestep in the HISTORY trajectory. "
   ]
  },
  {
   "cell_type": "code",
   "execution_count": 9,
   "metadata": {},
   "outputs": [],
   "source": [
    "first_config = rd.get_config(history, 1)"
   ]
  },
  {
   "cell_type": "code",
   "execution_count": 10,
   "metadata": {},
   "outputs": [
    {
     "name": "stdout",
     "output_type": "stream",
     "text": [
      "[[-11.789   -6.4175 -12.268 ]\n",
      " [ 10.48    13.257    9.5174]]\n"
     ]
    }
   ],
   "source": [
    "print(first_config)"
   ]
  },
  {
   "cell_type": "markdown",
   "metadata": {},
   "source": [
    "### CONFIG Files\n",
    "\n",
    "It is also possible to read CONFIG files and split the data into individual species as with the history file. "
   ]
  },
  {
   "cell_type": "code",
   "execution_count": 11,
   "metadata": {},
   "outputs": [
    {
     "name": "stdout",
     "output_type": "stream",
     "text": [
      "[[27.32  0.    0.  ]\n",
      " [ 0.   27.32  0.  ]\n",
      " [ 0.    0.   27.32]]\n",
      "1\n",
      "1500\n"
     ]
    }
   ],
   "source": [
    "config = rd.read_config(\"../example_data/CONFIG\", [\"CA\", \"F\"])\n",
    "\n",
    "print(config['timesteps'])\n",
    "print(config['natoms'])"
   ]
  },
  {
   "cell_type": "code",
   "execution_count": 12,
   "metadata": {},
   "outputs": [
    {
     "ename": "KeyError",
     "evalue": "'frac_trajectories'",
     "output_type": "error",
     "traceback": [
      "\u001b[0;31m---------------------------------------------------------------------------\u001b[0m",
      "\u001b[0;31mKeyError\u001b[0m                                  Traceback (most recent call last)",
      "\u001b[0;32m<ipython-input-12-d1ad32c8e91b>\u001b[0m in \u001b[0;36m<module>\u001b[0;34m()\u001b[0m\n\u001b[0;32m----> 1\u001b[0;31m \u001b[0mf_data\u001b[0m \u001b[0;34m=\u001b[0m \u001b[0mrd\u001b[0m\u001b[0;34m.\u001b[0m\u001b[0mget_atom\u001b[0m\u001b[0;34m(\u001b[0m\u001b[0mconfig\u001b[0m\u001b[0;34m,\u001b[0m \u001b[0;34m\"F\"\u001b[0m\u001b[0;34m)\u001b[0m\u001b[0;34m\u001b[0m\u001b[0m\n\u001b[0m\u001b[1;32m      2\u001b[0m \u001b[0mprint\u001b[0m\u001b[0;34m(\u001b[0m\u001b[0mf_data\u001b[0m\u001b[0;34m[\u001b[0m\u001b[0;34m'timesteps'\u001b[0m\u001b[0;34m]\u001b[0m\u001b[0;34m)\u001b[0m\u001b[0;34m\u001b[0m\u001b[0m\n\u001b[1;32m      3\u001b[0m \u001b[0mprint\u001b[0m\u001b[0;34m(\u001b[0m\u001b[0mf_data\u001b[0m\u001b[0;34m[\u001b[0m\u001b[0;34m'natoms'\u001b[0m\u001b[0;34m]\u001b[0m\u001b[0;34m)\u001b[0m\u001b[0;34m\u001b[0m\u001b[0m\n",
      "\u001b[0;32m~/anaconda3/lib/python3.7/site-packages/polypy-0.3-py3.7.egg/polypy/read.py\u001b[0m in \u001b[0;36mget_atom\u001b[0;34m(data, atom)\u001b[0m\n\u001b[1;32m    282\u001b[0m         \u001b[0;32mif\u001b[0m \u001b[0mdata\u001b[0m\u001b[0;34m[\u001b[0m\u001b[0;34m'label'\u001b[0m\u001b[0;34m]\u001b[0m\u001b[0;34m[\u001b[0m\u001b[0mi\u001b[0m\u001b[0;34m]\u001b[0m \u001b[0;34m==\u001b[0m \u001b[0matom\u001b[0m\u001b[0;34m:\u001b[0m\u001b[0;34m\u001b[0m\u001b[0m\n\u001b[1;32m    283\u001b[0m             \u001b[0mcoords\u001b[0m\u001b[0;34m.\u001b[0m\u001b[0mappend\u001b[0m\u001b[0;34m(\u001b[0m\u001b[0mdata\u001b[0m\u001b[0;34m[\u001b[0m\u001b[0;34m'trajectories'\u001b[0m\u001b[0;34m]\u001b[0m\u001b[0;34m[\u001b[0m\u001b[0mi\u001b[0m\u001b[0;34m]\u001b[0m\u001b[0;34m)\u001b[0m\u001b[0;34m\u001b[0m\u001b[0m\n\u001b[0;32m--> 284\u001b[0;31m             \u001b[0mfrac_coords\u001b[0m\u001b[0;34m.\u001b[0m\u001b[0mappend\u001b[0m\u001b[0;34m(\u001b[0m\u001b[0mdata\u001b[0m\u001b[0;34m[\u001b[0m\u001b[0;34m'frac_trajectories'\u001b[0m\u001b[0;34m]\u001b[0m\u001b[0;34m[\u001b[0m\u001b[0mi\u001b[0m\u001b[0;34m]\u001b[0m\u001b[0;34m)\u001b[0m\u001b[0;34m\u001b[0m\u001b[0m\n\u001b[0m\u001b[1;32m    285\u001b[0m             \u001b[0mcount\u001b[0m \u001b[0;34m=\u001b[0m \u001b[0mcount\u001b[0m \u001b[0;34m+\u001b[0m \u001b[0;36m1\u001b[0m\u001b[0;34m\u001b[0m\u001b[0m\n\u001b[1;32m    286\u001b[0m \u001b[0;34m\u001b[0m\u001b[0m\n",
      "\u001b[0;31mKeyError\u001b[0m: 'frac_trajectories'"
     ]
    }
   ],
   "source": [
    "f_data = rd.get_atom(config, \"F\")\n",
    "print(f_data['timesteps'])\n",
    "print(f_data['natoms'])"
   ]
  },
  {
   "cell_type": "markdown",
   "metadata": {},
   "source": [
    "### DLMONTE"
   ]
  },
  {
   "cell_type": "code",
   "execution_count": null,
   "metadata": {},
   "outputs": [],
   "source": [
    "archive = rd.read_archive(\"../example_data/ARCHIVE\", [\"CE\", \"O\"])\n",
    "\n",
    "print(archive['timesteps'])\n",
    "print(archive['natoms'])"
   ]
  },
  {
   "cell_type": "code",
   "execution_count": null,
   "metadata": {},
   "outputs": [],
   "source": []
  }
 ],
 "metadata": {
  "kernelspec": {
   "display_name": "Python 3",
   "language": "python",
   "name": "python3"
  },
  "language_info": {
   "codemirror_mode": {
    "name": "ipython",
    "version": 3
   },
   "file_extension": ".py",
   "mimetype": "text/x-python",
   "name": "python",
   "nbconvert_exporter": "python",
   "pygments_lexer": "ipython3",
   "version": "3.7.0"
  }
 },
 "nbformat": 4,
 "nbformat_minor": 2
}
