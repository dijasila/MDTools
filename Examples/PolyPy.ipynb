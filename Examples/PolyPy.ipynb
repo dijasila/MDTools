{
 "cells": [
  {
   "cell_type": "code",
   "execution_count": null,
   "metadata": {},
   "outputs": [],
   "source": [
    "import os as os\n",
    "import sys as sys\n",
    "import numpy as np\n",
    "import matplotlib.pyplot as plt\n",
    "import matplotlib.colors as colors\n",
    "import math as mt\n",
    "\n",
    "\n",
    "import Generic as ge\n",
    "import Read as rd\n",
    "import TrajectoryAnalysis as ta\n",
    "import Write as wr\n",
    "import Read_tes as rt\n",
    "\n",
    "from scipy import stats\n",
    "from scipy.constants import codata\n",
    "\n",
    "os.environ['QT_QPA_PLATFORM']='offscreen'\n",
    "\n",
    "\n",
    "import time\n",
    "start_time = time.time()\n"
   ]
  },
  {
   "cell_type": "code",
   "execution_count": null,
   "metadata": {
    "scrolled": false
   },
   "outputs": [],
   "source": [
    "Atom = \"O\"\n",
    "Bin = 0.1\n",
    "box = 0.1\n",
    "ul = 8.0\n",
    "ll = 0.01\n",
    "timestep = 0.25\n",
    "\n",
    "natoms, timesteps, trajectories, lv = rd.read_history(\"HISTORY\", Atom)\n",
    "volume, time = ta.system_volume(lv, timesteps, timestep)"
   ]
  },
  {
   "cell_type": "code",
   "execution_count": null,
   "metadata": {},
   "outputs": [],
   "source": [
    "# 1) Read Coordinates\n",
    "\n",
    "natoms, timesteps, trajectories, lv = rd.read_history(\"HISTORY_F\", Atom)"
   ]
  },
  {
   "cell_type": "code",
   "execution_count": null,
   "metadata": {},
   "outputs": [],
   "source": [
    "# 2) Volume Calculation\n",
    "\n",
    "volume, t = ta.system_volume(lv, timesteps, timestep)"
   ]
  },
  {
   "cell_type": "code",
   "execution_count": null,
   "metadata": {},
   "outputs": [],
   "source": [
    "# 3) Total Number of Species within a given region\n",
    "\n",
    "plane = ta.one_dimensional_density_sb(trajectories, ul=ul, ll=ll, direction=\"x\")"
   ]
  },
  {
   "cell_type": "code",
   "execution_count": null,
   "metadata": {},
   "outputs": [],
   "source": [
    "# 4) One Dimensional Density Plot\n",
    "\n",
    "ta.one_dimensional_density(trajectories, timesteps, lv, Bin=0.1)"
   ]
  },
  {
   "cell_type": "code",
   "execution_count": null,
   "metadata": {},
   "outputs": [],
   "source": [
    "# 5) Two Dimensional Density Plot\n",
    "\n",
    "ta.two_dimensional_density(trajectories, timesteps, lv, box=box, direction='z', log=False)"
   ]
  },
  {
   "cell_type": "code",
   "execution_count": null,
   "metadata": {},
   "outputs": [],
   "source": [
    "# 6) MSD Calculation with One Trajectory Sweep\n",
    "\n",
    "ta.msd(trajectories, lv, timesteps, natoms, timestep, conductivity=True, temperature=1500)"
   ]
  },
  {
   "cell_type": "code",
   "execution_count": null,
   "metadata": {},
   "outputs": [],
   "source": [
    "# 7) MSD Calculation with Multiple Trajectory Sweeps\n",
    "\n",
    "ta.smooth_msd(trajectories, lv, timesteps, natoms, timestep, runs=10, conductivity=True, temperature=1500)"
   ]
  },
  {
   "cell_type": "code",
   "execution_count": null,
   "metadata": {},
   "outputs": [],
   "source": [
    "# 8) MSD Calculation Within a Specific Region of the System\n",
    "\n",
    "ta.plane_msd(trajectories, lv, timesteps, natoms, timestep, runs=10, ul=ul, ll=ll, direction=\"x\", conductivity=False)"
   ]
  },
  {
   "cell_type": "code",
   "execution_count": null,
   "metadata": {
    "collapsed": true
   },
   "outputs": [],
   "source": [
    "# 9) MSD Calculation - Returns Plot of Atomic Diffusion Coefficient vs Average Position \n",
    "\n",
    "ta.pmsd(trajectories, lv, timesteps, natoms, timestep)"
   ]
  },
  {
   "cell_type": "code",
   "execution_count": null,
   "metadata": {
    "collapsed": true
   },
   "outputs": [],
   "source": [
    "print(\"--- %s seconds ---\" % (time.time() - start_time))"
   ]
  }
 ],
 "metadata": {
  "kernelspec": {
   "display_name": "Python 3",
   "language": "python",
   "name": "python3"
  },
  "language_info": {
   "codemirror_mode": {
    "name": "ipython",
    "version": 3
   },
   "file_extension": ".py",
   "mimetype": "text/x-python",
   "name": "python",
   "nbconvert_exporter": "python",
   "pygments_lexer": "ipython3",
   "version": "3.6.1"
  }
 },
 "nbformat": 4,
 "nbformat_minor": 2
}
